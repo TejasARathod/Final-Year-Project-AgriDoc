{
 "cells": [
  {
   "cell_type": "markdown",
   "metadata": {
    "id": "t6MPjfT5NrKQ"
   },
   "source": [
    "<a align=\"left\" href=\"https://ultralytics.com/yolov5\" target=\"_blank\">\n",
    "<img width=\"1024\", src=\"https://user-images.githubusercontent.com/26833433/125273437-35b3fc00-e30d-11eb-9079-46f313325424.png\"></a>\n",
    "\n",
    "This is the **official YOLOv5 🚀 notebook** by **Ultralytics**, and is freely available for redistribution under the [GPL-3.0 license](https://choosealicense.com/licenses/gpl-3.0/). \n",
    "For more information please visit https://github.com/ultralytics/yolov5 and https://ultralytics.com. Thank you!"
   ]
  },
  {
   "cell_type": "markdown",
   "metadata": {
    "id": "7mGmQbAO5pQb"
   },
   "source": [
    "# Setup\n",
    "\n",
    "Clone repo, install dependencies and check PyTorch and GPU."
   ]
  },
  {
   "cell_type": "code",
   "execution_count": null,
   "metadata": {
    "scrolled": true
   },
   "outputs": [],
   "source": [
    "!pip install utils"
   ]
  },
  {
   "cell_type": "code",
   "execution_count": null,
   "metadata": {},
   "outputs": [],
   "source": [
    "pip install ipywidgets"
   ]
  },
  {
   "cell_type": "code",
   "execution_count": 3,
   "metadata": {},
   "outputs": [
    {
     "name": "stdout",
     "output_type": "stream",
     "text": [
      "Collecting pyyaml\n",
      "  Downloading PyYAML-6.0-cp310-cp310-win_amd64.whl (151 kB)\n",
      "     -------------------------------------- 151.7/151.7 kB 3.1 MB/s eta 0:00:00\n",
      "Installing collected packages: pyyaml\n",
      "Successfully installed pyyaml-6.0\n",
      "Note: you may need to restart the kernel to use updated packages.\n"
     ]
    },
    {
     "name": "stderr",
     "output_type": "stream",
     "text": [
      "WARNING: There was an error checking the latest version of pip.\n"
     ]
    }
   ],
   "source": [
    "pip install pyyaml"
   ]
  },
  {
   "cell_type": "code",
   "execution_count": 1,
   "metadata": {
    "colab": {
     "base_uri": "https://localhost:8080/"
    },
    "id": "wbvMlHd_QwMG",
    "outputId": "4bf03330-c2e8-43ec-c5da-b7f5e0b2b123"
   },
   "outputs": [
    {
     "name": "stderr",
     "output_type": "stream",
     "text": [
      "YOLOv5 🚀 2022-6-20 Python-3.8.10 torch-1.9.0+cu102 CUDA:0 (NVIDIA GeForce GTX 1650, 3904MiB)\n"
     ]
    },
    {
     "name": "stdout",
     "output_type": "stream",
     "text": [
      "Setup complete ✅ (8 CPUs, 7.7 GB RAM, 53.8/136.1 GB disk)\n"
     ]
    }
   ],
   "source": [
    "!git clone https://github.com/ultralytics/yolov5  # clone\n",
    "%cd yolov5\n",
    "%pip install -qr requirements.txt  # install\n",
    "\n",
    "import torch\n",
    "import utils\n",
    "display = utils.notebook_init()  # checks"
   ]
  },
  {
   "cell_type": "markdown",
   "metadata": {
    "id": "4JnkELT0cIJg"
   },
   "source": [
    "# 1. Inference\n",
    "\n",
    "`detect.py` runs YOLOv5 inference on a variety of sources, downloading models automatically from the [latest YOLOv5 release](https://github.com/ultralytics/yolov5/releases), and saving results to `runs/detect`. Example inference sources are:\n",
    "\n",
    "```shell\n",
    "python detect.py --source 0  # webcam\n",
    "                          img.jpg  # image \n",
    "                          vid.mp4  # video\n",
    "                          path/  # directory\n",
    "                          path/*.jpg  # glob\n",
    "                          'https://youtu.be/Zgi9g1ksQHc'  # YouTube\n",
    "                          'rtsp://example.com/media.mp4'  # RTSP, RTMP, HTTP stream\n",
    "```"
   ]
  },
  {
   "cell_type": "code",
   "execution_count": 8,
   "metadata": {
    "colab": {
     "base_uri": "https://localhost:8080/"
    },
    "id": "zR9ZbuQCH7FX",
    "outputId": "1d1bb361-c8f3-4ddd-8a19-864bb993e7ac"
   },
   "outputs": [
    {
     "name": "stdout",
     "output_type": "stream",
     "text": [
      "\u001b[34m\u001b[1mdetect: \u001b[0mweights=['runs/train/exp16/weights/best.pt'], source=/home/tejas/Desktop/Weed/My_video.mp4, data=data/coco128.yaml, imgsz=[640, 640], conf_thres=0.25, iou_thres=0.45, max_det=1000, device=, view_img=False, save_txt=False, save_conf=False, save_crop=False, nosave=False, classes=None, agnostic_nms=False, augment=False, visualize=False, update=False, project=runs/detect, name=exp, exist_ok=False, line_thickness=3, hide_labels=False, hide_conf=False, half=False, dnn=False\n",
      "YOLOv5 🚀 2022-6-20 Python-3.8.10 torch-1.9.0+cu102 CUDA:0 (NVIDIA GeForce GTX 1650, 3904MiB)\n",
      "\n",
      "Fusing layers... \n",
      "Model summary: 213 layers, 7018216 parameters, 0 gradients\n",
      "video 1/1 (1/435) /home/tejas/Desktop/Weed/My_video.mp4: 384x640 1 Weed_CommonChickweed, Done. (0.010s)\n",
      "video 1/1 (2/435) /home/tejas/Desktop/Weed/My_video.mp4: 384x640 1 Weed_CommonChickweed, Done. (0.010s)\n",
      "video 1/1 (3/435) /home/tejas/Desktop/Weed/My_video.mp4: 384x640 1 Weed_CommonChickweed, Done. (0.011s)\n",
      "video 1/1 (4/435) /home/tejas/Desktop/Weed/My_video.mp4: 384x640 1 Weed_CommonChickweed, Done. (0.010s)\n",
      "video 1/1 (5/435) /home/tejas/Desktop/Weed/My_video.mp4: 384x640 1 Weed_CommonChickweed, Done. (0.011s)\n",
      "video 1/1 (6/435) /home/tejas/Desktop/Weed/My_video.mp4: 384x640 1 Weed_CommonChickweed, Done. (0.010s)\n",
      "video 1/1 (7/435) /home/tejas/Desktop/Weed/My_video.mp4: 384x640 1 Weed_CommonChickweed, Done. (0.010s)\n",
      "video 1/1 (8/435) /home/tejas/Desktop/Weed/My_video.mp4: 384x640 1 Weed_CommonChickweed, Done. (0.010s)\n",
      "video 1/1 (9/435) /home/tejas/Desktop/Weed/My_video.mp4: 384x640 1 Weed_CommonChickweed, Done. (0.011s)\n",
      "video 1/1 (10/435) /home/tejas/Desktop/Weed/My_video.mp4: 384x640 1 Weed_CommonChickweed, Done. (0.010s)\n",
      "video 1/1 (11/435) /home/tejas/Desktop/Weed/My_video.mp4: 384x640 1 Weed_CommonChickweed, Done. (0.010s)\n",
      "video 1/1 (12/435) /home/tejas/Desktop/Weed/My_video.mp4: 384x640 1 Weed_CommonChickweed, Done. (0.010s)\n",
      "video 1/1 (13/435) /home/tejas/Desktop/Weed/My_video.mp4: 384x640 1 Weed_CommonChickweed, Done. (0.010s)\n",
      "video 1/1 (14/435) /home/tejas/Desktop/Weed/My_video.mp4: 384x640 1 Weed_CommonChickweed, Done. (0.010s)\n",
      "video 1/1 (15/435) /home/tejas/Desktop/Weed/My_video.mp4: 384x640 1 Weed_CommonChickweed, Done. (0.008s)\n",
      "video 1/1 (16/435) /home/tejas/Desktop/Weed/My_video.mp4: 384x640 1 Weed_CommonChickweed, Done. (0.009s)\n",
      "video 1/1 (17/435) /home/tejas/Desktop/Weed/My_video.mp4: 384x640 1 Weed_CommonChickweed, Done. (0.009s)\n",
      "video 1/1 (18/435) /home/tejas/Desktop/Weed/My_video.mp4: 384x640 1 Weed_CommonChickweed, Done. (0.008s)\n",
      "video 1/1 (19/435) /home/tejas/Desktop/Weed/My_video.mp4: 384x640 1 Weed_CommonChickweed, Done. (0.008s)\n",
      "video 1/1 (20/435) /home/tejas/Desktop/Weed/My_video.mp4: 384x640 1 Weed_CommonChickweed, Done. (0.008s)\n",
      "video 1/1 (21/435) /home/tejas/Desktop/Weed/My_video.mp4: 384x640 1 Weed_CommonChickweed, Done. (0.010s)\n",
      "video 1/1 (22/435) /home/tejas/Desktop/Weed/My_video.mp4: 384x640 1 Weed_CommonChickweed, Done. (0.008s)\n",
      "video 1/1 (23/435) /home/tejas/Desktop/Weed/My_video.mp4: 384x640 1 Weed_CommonChickweed, Done. (0.008s)\n",
      "video 1/1 (24/435) /home/tejas/Desktop/Weed/My_video.mp4: 384x640 1 Weed_CommonChickweed, Done. (0.008s)\n",
      "video 1/1 (25/435) /home/tejas/Desktop/Weed/My_video.mp4: 384x640 1 Weed_CommonChickweed, Done. (0.008s)\n",
      "video 1/1 (26/435) /home/tejas/Desktop/Weed/My_video.mp4: 384x640 1 Weed_CommonChickweed, Done. (0.009s)\n",
      "video 1/1 (27/435) /home/tejas/Desktop/Weed/My_video.mp4: 384x640 1 Weed_CommonChickweed, Done. (0.008s)\n",
      "video 1/1 (28/435) /home/tejas/Desktop/Weed/My_video.mp4: 384x640 1 Weed_CommonChickweed, Done. (0.008s)\n",
      "video 1/1 (29/435) /home/tejas/Desktop/Weed/My_video.mp4: 384x640 1 Weed_CommonChickweed, Done. (0.008s)\n",
      "video 1/1 (30/435) /home/tejas/Desktop/Weed/My_video.mp4: 384x640 1 Weed_CommonChickweed, Done. (0.008s)\n",
      "video 1/1 (31/435) /home/tejas/Desktop/Weed/My_video.mp4: 384x640 1 Weed_CommonChickweed, Done. (0.009s)\n",
      "video 1/1 (32/435) /home/tejas/Desktop/Weed/My_video.mp4: 384x640 1 Weed_CommonChickweed, Done. (0.008s)\n",
      "video 1/1 (33/435) /home/tejas/Desktop/Weed/My_video.mp4: 384x640 1 Weed_CommonChickweed, Done. (0.008s)\n",
      "video 1/1 (34/435) /home/tejas/Desktop/Weed/My_video.mp4: 384x640 1 Weed_CommonChickweed, Done. (0.008s)\n",
      "video 1/1 (35/435) /home/tejas/Desktop/Weed/My_video.mp4: 384x640 1 Weed_CommonChickweed, Done. (0.008s)\n",
      "video 1/1 (36/435) /home/tejas/Desktop/Weed/My_video.mp4: 384x640 1 Weed_CommonChickweed, Done. (0.008s)\n",
      "video 1/1 (37/435) /home/tejas/Desktop/Weed/My_video.mp4: 384x640 1 Weed_CommonChickweed, Done. (0.009s)\n",
      "video 1/1 (38/435) /home/tejas/Desktop/Weed/My_video.mp4: 384x640 1 Weed_CommonChickweed, Done. (0.008s)\n",
      "video 1/1 (39/435) /home/tejas/Desktop/Weed/My_video.mp4: 384x640 1 Weed_CommonChickweed, Done. (0.009s)\n",
      "video 1/1 (40/435) /home/tejas/Desktop/Weed/My_video.mp4: 384x640 1 Weed_CommonChickweed, Done. (0.008s)\n",
      "video 1/1 (41/435) /home/tejas/Desktop/Weed/My_video.mp4: 384x640 1 Weed_CommonChickweed, Done. (0.008s)\n",
      "video 1/1 (42/435) /home/tejas/Desktop/Weed/My_video.mp4: 384x640 1 Weed_CommonChickweed, Done. (0.008s)\n",
      "video 1/1 (43/435) /home/tejas/Desktop/Weed/My_video.mp4: 384x640 1 Weed_CommonChickweed, Done. (0.008s)\n",
      "video 1/1 (44/435) /home/tejas/Desktop/Weed/My_video.mp4: 384x640 1 Weed_CommonChickweed, Done. (0.008s)\n",
      "video 1/1 (45/435) /home/tejas/Desktop/Weed/My_video.mp4: 384x640 1 Weed_CommonChickweed, Done. (0.009s)\n",
      "video 1/1 (46/435) /home/tejas/Desktop/Weed/My_video.mp4: 384x640 1 Weed_CommonChickweed, Done. (0.008s)\n",
      "video 1/1 (47/435) /home/tejas/Desktop/Weed/My_video.mp4: 384x640 1 Weed_CommonChickweed, Done. (0.008s)\n",
      "video 1/1 (48/435) /home/tejas/Desktop/Weed/My_video.mp4: 384x640 1 Weed_CommonChickweed, Done. (0.008s)\n",
      "video 1/1 (49/435) /home/tejas/Desktop/Weed/My_video.mp4: 384x640 1 Weed_CommonChickweed, Done. (0.008s)\n",
      "video 1/1 (50/435) /home/tejas/Desktop/Weed/My_video.mp4: 384x640 1 Weed_CommonChickweed, Done. (0.008s)\n",
      "video 1/1 (51/435) /home/tejas/Desktop/Weed/My_video.mp4: 384x640 1 Weed_CommonChickweed, Done. (0.009s)\n",
      "video 1/1 (52/435) /home/tejas/Desktop/Weed/My_video.mp4: 384x640 1 Weed_CommonChickweed, Done. (0.008s)\n",
      "video 1/1 (53/435) /home/tejas/Desktop/Weed/My_video.mp4: 384x640 1 Weed_CommonChickweed, Done. (0.008s)\n",
      "video 1/1 (54/435) /home/tejas/Desktop/Weed/My_video.mp4: 384x640 1 Weed_CommonChickweed, Done. (0.008s)\n",
      "video 1/1 (55/435) /home/tejas/Desktop/Weed/My_video.mp4: 384x640 1 Weed_CommonChickweed, Done. (0.008s)\n",
      "video 1/1 (56/435) /home/tejas/Desktop/Weed/My_video.mp4: 384x640 1 Weed_CommonChickweed, Done. (0.008s)\n",
      "video 1/1 (57/435) /home/tejas/Desktop/Weed/My_video.mp4: 384x640 1 Weed_CommonChickweed, Done. (0.008s)\n",
      "video 1/1 (58/435) /home/tejas/Desktop/Weed/My_video.mp4: 384x640 1 Weed_CommonChickweed, Done. (0.008s)\n",
      "video 1/1 (59/435) /home/tejas/Desktop/Weed/My_video.mp4: 384x640 1 Weed_CommonChickweed, Done. (0.008s)\n",
      "video 1/1 (60/435) /home/tejas/Desktop/Weed/My_video.mp4: 384x640 1 Weed_CommonChickweed, Done. (0.008s)\n",
      "video 1/1 (61/435) /home/tejas/Desktop/Weed/My_video.mp4: 384x640 1 Weed_BlackNightshade, 1 Weed_VelvetLeaf, Done. (0.008s)\n",
      "video 1/1 (62/435) /home/tejas/Desktop/Weed/My_video.mp4: 384x640 1 Weed_BlackNightshade, 1 Weed_VelvetLeaf, Done. (0.009s)\n",
      "video 1/1 (63/435) /home/tejas/Desktop/Weed/My_video.mp4: 384x640 1 Weed_BlackNightshade, 1 Weed_VelvetLeaf, Done. (0.008s)\n",
      "video 1/1 (64/435) /home/tejas/Desktop/Weed/My_video.mp4: 384x640 1 Weed_BlackNightshade, 1 Weed_VelvetLeaf, Done. (0.008s)\n",
      "video 1/1 (65/435) /home/tejas/Desktop/Weed/My_video.mp4: 384x640 1 Weed_BlackNightshade, 1 Weed_VelvetLeaf, Done. (0.009s)\n",
      "video 1/1 (66/435) /home/tejas/Desktop/Weed/My_video.mp4: 384x640 1 Weed_BlackNightshade, 1 Weed_VelvetLeaf, Done. (0.008s)\n",
      "video 1/1 (67/435) /home/tejas/Desktop/Weed/My_video.mp4: 384x640 1 Weed_BlackNightshade, 1 Weed_VelvetLeaf, Done. (0.008s)\n",
      "video 1/1 (68/435) /home/tejas/Desktop/Weed/My_video.mp4: 384x640 1 Weed_BlackNightshade, 1 Weed_VelvetLeaf, Done. (0.008s)\n",
      "video 1/1 (69/435) /home/tejas/Desktop/Weed/My_video.mp4: 384x640 1 Weed_BlackNightshade, 1 Weed_VelvetLeaf, Done. (0.009s)\n",
      "video 1/1 (70/435) /home/tejas/Desktop/Weed/My_video.mp4: 384x640 1 Weed_BlackNightshade, 1 Weed_VelvetLeaf, Done. (0.008s)\n"
     ]
    },
    {
     "name": "stdout",
     "output_type": "stream",
     "text": [
      "video 1/1 (71/435) /home/tejas/Desktop/Weed/My_video.mp4: 384x640 1 Weed_BlackNightshade, 1 Weed_VelvetLeaf, Done. (0.008s)\n",
      "video 1/1 (72/435) /home/tejas/Desktop/Weed/My_video.mp4: 384x640 1 Weed_BlackNightshade, 1 Weed_VelvetLeaf, Done. (0.009s)\n",
      "video 1/1 (73/435) /home/tejas/Desktop/Weed/My_video.mp4: 384x640 1 Weed_BlackNightshade, 1 Weed_VelvetLeaf, Done. (0.008s)\n",
      "video 1/1 (74/435) /home/tejas/Desktop/Weed/My_video.mp4: 384x640 1 Weed_BlackNightshade, 1 Weed_VelvetLeaf, Done. (0.009s)\n",
      "video 1/1 (75/435) /home/tejas/Desktop/Weed/My_video.mp4: 384x640 1 Weed_BlackNightshade, 1 Weed_VelvetLeaf, Done. (0.008s)\n",
      "video 1/1 (76/435) /home/tejas/Desktop/Weed/My_video.mp4: 384x640 1 Weed_BlackNightshade, 1 Weed_VelvetLeaf, Done. (0.009s)\n",
      "video 1/1 (77/435) /home/tejas/Desktop/Weed/My_video.mp4: 384x640 1 Weed_BlackNightshade, 1 Weed_VelvetLeaf, Done. (0.008s)\n",
      "video 1/1 (78/435) /home/tejas/Desktop/Weed/My_video.mp4: 384x640 1 Weed_BlackNightshade, 1 Weed_VelvetLeaf, Done. (0.008s)\n",
      "video 1/1 (79/435) /home/tejas/Desktop/Weed/My_video.mp4: 384x640 1 Weed_BlackNightshade, 1 Weed_VelvetLeaf, Done. (0.008s)\n",
      "video 1/1 (80/435) /home/tejas/Desktop/Weed/My_video.mp4: 384x640 1 Weed_BlackNightshade, 1 Weed_VelvetLeaf, Done. (0.008s)\n",
      "video 1/1 (81/435) /home/tejas/Desktop/Weed/My_video.mp4: 384x640 1 Weed_BlackNightshade, 1 Weed_VelvetLeaf, Done. (0.008s)\n",
      "video 1/1 (82/435) /home/tejas/Desktop/Weed/My_video.mp4: 384x640 1 Weed_BlackNightshade, 1 Weed_VelvetLeaf, Done. (0.008s)\n",
      "video 1/1 (83/435) /home/tejas/Desktop/Weed/My_video.mp4: 384x640 1 Weed_BlackNightshade, 1 Weed_VelvetLeaf, Done. (0.008s)\n",
      "video 1/1 (84/435) /home/tejas/Desktop/Weed/My_video.mp4: 384x640 1 Weed_BlackNightshade, 1 Weed_VelvetLeaf, Done. (0.009s)\n",
      "video 1/1 (85/435) /home/tejas/Desktop/Weed/My_video.mp4: 384x640 1 Weed_BlackNightshade, 1 Weed_VelvetLeaf, Done. (0.009s)\n",
      "video 1/1 (86/435) /home/tejas/Desktop/Weed/My_video.mp4: 384x640 1 Weed_BlackNightshade, 1 Weed_VelvetLeaf, Done. (0.008s)\n",
      "video 1/1 (87/435) /home/tejas/Desktop/Weed/My_video.mp4: 384x640 1 Weed_BlackNightshade, 1 Weed_VelvetLeaf, Done. (0.008s)\n",
      "video 1/1 (88/435) /home/tejas/Desktop/Weed/My_video.mp4: 384x640 1 Weed_BlackNightshade, 1 Weed_VelvetLeaf, Done. (0.009s)\n",
      "video 1/1 (89/435) /home/tejas/Desktop/Weed/My_video.mp4: 384x640 1 Weed_BlackNightshade, 1 Weed_VelvetLeaf, Done. (0.008s)\n",
      "video 1/1 (90/435) /home/tejas/Desktop/Weed/My_video.mp4: 384x640 1 Weed_BlackNightshade, 1 Weed_VelvetLeaf, Done. (0.008s)\n",
      "video 1/1 (91/435) /home/tejas/Desktop/Weed/My_video.mp4: 384x640 1 Weed_BlackNightshade, 1 Weed_VelvetLeaf, Done. (0.008s)\n",
      "video 1/1 (92/435) /home/tejas/Desktop/Weed/My_video.mp4: 384x640 1 Weed_BlackNightshade, 1 Weed_VelvetLeaf, Done. (0.008s)\n",
      "video 1/1 (93/435) /home/tejas/Desktop/Weed/My_video.mp4: 384x640 1 Weed_BlackNightshade, 1 Weed_VelvetLeaf, Done. (0.008s)\n",
      "video 1/1 (94/435) /home/tejas/Desktop/Weed/My_video.mp4: 384x640 1 Weed_BlackNightshade, 1 Weed_VelvetLeaf, Done. (0.008s)\n",
      "video 1/1 (95/435) /home/tejas/Desktop/Weed/My_video.mp4: 384x640 1 Weed_BlackNightshade, 1 Weed_VelvetLeaf, Done. (0.008s)\n",
      "video 1/1 (96/435) /home/tejas/Desktop/Weed/My_video.mp4: 384x640 1 Weed_BlackNightshade, 1 Weed_VelvetLeaf, Done. (0.008s)\n",
      "video 1/1 (97/435) /home/tejas/Desktop/Weed/My_video.mp4: 384x640 1 Weed_BlackNightshade, 1 Weed_VelvetLeaf, Done. (0.008s)\n",
      "video 1/1 (98/435) /home/tejas/Desktop/Weed/My_video.mp4: 384x640 1 Weed_BlackNightshade, 1 Weed_VelvetLeaf, Done. (0.008s)\n",
      "video 1/1 (99/435) /home/tejas/Desktop/Weed/My_video.mp4: 384x640 1 Weed_BlackNightshade, 1 Weed_VelvetLeaf, Done. (0.008s)\n",
      "video 1/1 (100/435) /home/tejas/Desktop/Weed/My_video.mp4: 384x640 1 Weed_BlackNightshade, 1 Weed_VelvetLeaf, Done. (0.008s)\n",
      "video 1/1 (101/435) /home/tejas/Desktop/Weed/My_video.mp4: 384x640 1 Weed_BlackNightshade, 1 Weed_VelvetLeaf, Done. (0.008s)\n",
      "video 1/1 (102/435) /home/tejas/Desktop/Weed/My_video.mp4: 384x640 1 Weed_BlackNightshade, 1 Weed_VelvetLeaf, Done. (0.008s)\n",
      "video 1/1 (103/435) /home/tejas/Desktop/Weed/My_video.mp4: 384x640 1 Weed_BlackNightshade, 1 Weed_VelvetLeaf, Done. (0.008s)\n",
      "video 1/1 (104/435) /home/tejas/Desktop/Weed/My_video.mp4: 384x640 1 Weed_BlackNightshade, 1 Weed_VelvetLeaf, Done. (0.009s)\n",
      "video 1/1 (105/435) /home/tejas/Desktop/Weed/My_video.mp4: 384x640 1 Weed_BlackNightshade, 1 Weed_VelvetLeaf, Done. (0.008s)\n",
      "video 1/1 (106/435) /home/tejas/Desktop/Weed/My_video.mp4: 384x640 1 Weed_BlackNightshade, 1 Weed_VelvetLeaf, Done. (0.008s)\n",
      "video 1/1 (107/435) /home/tejas/Desktop/Weed/My_video.mp4: 384x640 1 Weed_BlackNightshade, 1 Weed_VelvetLeaf, Done. (0.008s)\n",
      "video 1/1 (108/435) /home/tejas/Desktop/Weed/My_video.mp4: 384x640 1 Weed_BlackNightshade, 1 Weed_VelvetLeaf, Done. (0.008s)\n",
      "video 1/1 (109/435) /home/tejas/Desktop/Weed/My_video.mp4: 384x640 1 Weed_BlackNightshade, 1 Weed_VelvetLeaf, Done. (0.008s)\n",
      "video 1/1 (110/435) /home/tejas/Desktop/Weed/My_video.mp4: 384x640 1 Weed_BlackNightshade, 1 Weed_VelvetLeaf, Done. (0.008s)\n",
      "video 1/1 (111/435) /home/tejas/Desktop/Weed/My_video.mp4: 384x640 1 Weed_BlackNightshade, 1 Weed_VelvetLeaf, Done. (0.009s)\n",
      "video 1/1 (112/435) /home/tejas/Desktop/Weed/My_video.mp4: 384x640 1 Weed_BlackNightshade, 1 Weed_VelvetLeaf, Done. (0.008s)\n",
      "video 1/1 (113/435) /home/tejas/Desktop/Weed/My_video.mp4: 384x640 1 Weed_BlackNightshade, 1 Weed_VelvetLeaf, Done. (0.008s)\n",
      "video 1/1 (114/435) /home/tejas/Desktop/Weed/My_video.mp4: 384x640 1 Weed_BlackNightshade, 1 Weed_VelvetLeaf, Done. (0.008s)\n",
      "video 1/1 (115/435) /home/tejas/Desktop/Weed/My_video.mp4: 384x640 1 Weed_BlackNightshade, 1 Weed_VelvetLeaf, Done. (0.008s)\n",
      "video 1/1 (116/435) /home/tejas/Desktop/Weed/My_video.mp4: 384x640 1 Weed_BlackNightshade, 1 Weed_VelvetLeaf, Done. (0.008s)\n",
      "video 1/1 (117/435) /home/tejas/Desktop/Weed/My_video.mp4: 384x640 1 Weed_BlackNightshade, 1 Weed_VelvetLeaf, Done. (0.008s)\n",
      "video 1/1 (118/435) /home/tejas/Desktop/Weed/My_video.mp4: 384x640 1 Weed_BlackNightshade, 1 Weed_VelvetLeaf, Done. (0.009s)\n",
      "video 1/1 (119/435) /home/tejas/Desktop/Weed/My_video.mp4: 384x640 1 Weed_BlackNightshade, 1 Weed_VelvetLeaf, Done. (0.008s)\n",
      "video 1/1 (120/435) /home/tejas/Desktop/Weed/My_video.mp4: 384x640 1 Weed_BlackNightshade, 1 Weed_VelvetLeaf, Done. (0.008s)\n",
      "video 1/1 (121/435) /home/tejas/Desktop/Weed/My_video.mp4: 384x640 1 Weed_VelvetLeaf, Done. (0.008s)\n",
      "video 1/1 (122/435) /home/tejas/Desktop/Weed/My_video.mp4: 384x640 1 Weed_VelvetLeaf, Done. (0.008s)\n",
      "video 1/1 (123/435) /home/tejas/Desktop/Weed/My_video.mp4: 384x640 1 Weed_VelvetLeaf, Done. (0.008s)\n",
      "video 1/1 (124/435) /home/tejas/Desktop/Weed/My_video.mp4: 384x640 1 Weed_VelvetLeaf, Done. (0.008s)\n",
      "video 1/1 (125/435) /home/tejas/Desktop/Weed/My_video.mp4: 384x640 1 Weed_VelvetLeaf, Done. (0.008s)\n",
      "video 1/1 (126/435) /home/tejas/Desktop/Weed/My_video.mp4: 384x640 1 Weed_VelvetLeaf, Done. (0.009s)\n",
      "video 1/1 (127/435) /home/tejas/Desktop/Weed/My_video.mp4: 384x640 1 Weed_VelvetLeaf, Done. (0.008s)\n",
      "video 1/1 (128/435) /home/tejas/Desktop/Weed/My_video.mp4: 384x640 1 Weed_VelvetLeaf, Done. (0.008s)\n",
      "video 1/1 (129/435) /home/tejas/Desktop/Weed/My_video.mp4: 384x640 1 Weed_VelvetLeaf, Done. (0.008s)\n",
      "video 1/1 (130/435) /home/tejas/Desktop/Weed/My_video.mp4: 384x640 1 Weed_VelvetLeaf, Done. (0.008s)\n",
      "video 1/1 (131/435) /home/tejas/Desktop/Weed/My_video.mp4: 384x640 1 Weed_VelvetLeaf, Done. (0.008s)\n",
      "video 1/1 (132/435) /home/tejas/Desktop/Weed/My_video.mp4: 384x640 1 Weed_VelvetLeaf, Done. (0.008s)\n",
      "video 1/1 (133/435) /home/tejas/Desktop/Weed/My_video.mp4: 384x640 1 Weed_VelvetLeaf, Done. (0.008s)\n",
      "video 1/1 (134/435) /home/tejas/Desktop/Weed/My_video.mp4: 384x640 1 Weed_VelvetLeaf, Done. (0.008s)\n",
      "video 1/1 (135/435) /home/tejas/Desktop/Weed/My_video.mp4: 384x640 1 Weed_VelvetLeaf, Done. (0.008s)\n",
      "video 1/1 (136/435) /home/tejas/Desktop/Weed/My_video.mp4: 384x640 1 Weed_VelvetLeaf, Done. (0.008s)\n",
      "video 1/1 (137/435) /home/tejas/Desktop/Weed/My_video.mp4: 384x640 1 Weed_VelvetLeaf, Done. (0.008s)\n",
      "video 1/1 (138/435) /home/tejas/Desktop/Weed/My_video.mp4: 384x640 1 Weed_VelvetLeaf, Done. (0.009s)\n",
      "video 1/1 (139/435) /home/tejas/Desktop/Weed/My_video.mp4: 384x640 1 Weed_VelvetLeaf, Done. (0.008s)\n",
      "video 1/1 (140/435) /home/tejas/Desktop/Weed/My_video.mp4: 384x640 1 Weed_VelvetLeaf, Done. (0.008s)\n"
     ]
    },
    {
     "name": "stdout",
     "output_type": "stream",
     "text": [
      "video 1/1 (141/435) /home/tejas/Desktop/Weed/My_video.mp4: 384x640 1 Weed_VelvetLeaf, Done. (0.008s)\n",
      "video 1/1 (142/435) /home/tejas/Desktop/Weed/My_video.mp4: 384x640 1 Weed_VelvetLeaf, Done. (0.008s)\n",
      "video 1/1 (143/435) /home/tejas/Desktop/Weed/My_video.mp4: 384x640 1 Weed_VelvetLeaf, Done. (0.008s)\n",
      "video 1/1 (144/435) /home/tejas/Desktop/Weed/My_video.mp4: 384x640 1 Weed_VelvetLeaf, Done. (0.008s)\n",
      "video 1/1 (145/435) /home/tejas/Desktop/Weed/My_video.mp4: 384x640 1 Weed_VelvetLeaf, Done. (0.009s)\n",
      "video 1/1 (146/435) /home/tejas/Desktop/Weed/My_video.mp4: 384x640 1 Weed_VelvetLeaf, Done. (0.008s)\n",
      "video 1/1 (147/435) /home/tejas/Desktop/Weed/My_video.mp4: 384x640 1 Weed_VelvetLeaf, Done. (0.008s)\n",
      "video 1/1 (148/435) /home/tejas/Desktop/Weed/My_video.mp4: 384x640 1 Weed_VelvetLeaf, Done. (0.008s)\n",
      "video 1/1 (149/435) /home/tejas/Desktop/Weed/My_video.mp4: 384x640 1 Weed_VelvetLeaf, Done. (0.008s)\n",
      "video 1/1 (150/435) /home/tejas/Desktop/Weed/My_video.mp4: 384x640 1 Weed_VelvetLeaf, Done. (0.008s)\n",
      "video 1/1 (151/435) /home/tejas/Desktop/Weed/My_video.mp4: 384x640 1 Weed_VelvetLeaf, Done. (0.008s)\n",
      "video 1/1 (152/435) /home/tejas/Desktop/Weed/My_video.mp4: 384x640 1 Weed_VelvetLeaf, Done. (0.009s)\n",
      "video 1/1 (153/435) /home/tejas/Desktop/Weed/My_video.mp4: 384x640 1 Weed_VelvetLeaf, Done. (0.008s)\n",
      "video 1/1 (154/435) /home/tejas/Desktop/Weed/My_video.mp4: 384x640 1 Weed_VelvetLeaf, Done. (0.008s)\n",
      "video 1/1 (155/435) /home/tejas/Desktop/Weed/My_video.mp4: 384x640 1 Weed_VelvetLeaf, Done. (0.008s)\n",
      "video 1/1 (156/435) /home/tejas/Desktop/Weed/My_video.mp4: 384x640 1 Weed_VelvetLeaf, Done. (0.008s)\n",
      "video 1/1 (157/435) /home/tejas/Desktop/Weed/My_video.mp4: 384x640 1 Weed_VelvetLeaf, Done. (0.009s)\n",
      "video 1/1 (158/435) /home/tejas/Desktop/Weed/My_video.mp4: 384x640 1 Weed_VelvetLeaf, Done. (0.008s)\n",
      "video 1/1 (159/435) /home/tejas/Desktop/Weed/My_video.mp4: 384x640 1 Weed_VelvetLeaf, Done. (0.008s)\n",
      "video 1/1 (160/435) /home/tejas/Desktop/Weed/My_video.mp4: 384x640 1 Weed_VelvetLeaf, Done. (0.008s)\n",
      "video 1/1 (161/435) /home/tejas/Desktop/Weed/My_video.mp4: 384x640 1 Weed_VelvetLeaf, Done. (0.008s)\n",
      "video 1/1 (162/435) /home/tejas/Desktop/Weed/My_video.mp4: 384x640 1 Weed_VelvetLeaf, Done. (0.008s)\n",
      "video 1/1 (163/435) /home/tejas/Desktop/Weed/My_video.mp4: 384x640 1 Weed_VelvetLeaf, Done. (0.008s)\n",
      "video 1/1 (164/435) /home/tejas/Desktop/Weed/My_video.mp4: 384x640 1 Weed_VelvetLeaf, Done. (0.008s)\n",
      "video 1/1 (165/435) /home/tejas/Desktop/Weed/My_video.mp4: 384x640 1 Weed_VelvetLeaf, Done. (0.008s)\n",
      "video 1/1 (166/435) /home/tejas/Desktop/Weed/My_video.mp4: 384x640 1 Weed_VelvetLeaf, Done. (0.008s)\n",
      "video 1/1 (167/435) /home/tejas/Desktop/Weed/My_video.mp4: 384x640 1 Weed_VelvetLeaf, Done. (0.009s)\n",
      "video 1/1 (168/435) /home/tejas/Desktop/Weed/My_video.mp4: 384x640 1 Weed_VelvetLeaf, Done. (0.008s)\n",
      "video 1/1 (169/435) /home/tejas/Desktop/Weed/My_video.mp4: 384x640 1 Weed_VelvetLeaf, Done. (0.008s)\n",
      "video 1/1 (170/435) /home/tejas/Desktop/Weed/My_video.mp4: 384x640 1 Weed_VelvetLeaf, Done. (0.008s)\n",
      "video 1/1 (171/435) /home/tejas/Desktop/Weed/My_video.mp4: 384x640 1 Weed_VelvetLeaf, Done. (0.009s)\n",
      "video 1/1 (172/435) /home/tejas/Desktop/Weed/My_video.mp4: 384x640 1 Weed_VelvetLeaf, Done. (0.008s)\n",
      "video 1/1 (173/435) /home/tejas/Desktop/Weed/My_video.mp4: 384x640 1 Weed_VelvetLeaf, Done. (0.008s)\n",
      "video 1/1 (174/435) /home/tejas/Desktop/Weed/My_video.mp4: 384x640 1 Weed_VelvetLeaf, Done. (0.009s)\n",
      "video 1/1 (175/435) /home/tejas/Desktop/Weed/My_video.mp4: 384x640 1 Weed_VelvetLeaf, Done. (0.008s)\n",
      "video 1/1 (176/435) /home/tejas/Desktop/Weed/My_video.mp4: 384x640 1 Weed_VelvetLeaf, Done. (0.008s)\n",
      "video 1/1 (177/435) /home/tejas/Desktop/Weed/My_video.mp4: 384x640 1 Weed_VelvetLeaf, Done. (0.008s)\n",
      "video 1/1 (178/435) /home/tejas/Desktop/Weed/My_video.mp4: 384x640 1 Weed_VelvetLeaf, Done. (0.008s)\n",
      "video 1/1 (179/435) /home/tejas/Desktop/Weed/My_video.mp4: 384x640 1 Weed_VelvetLeaf, Done. (0.008s)\n",
      "video 1/1 (180/435) /home/tejas/Desktop/Weed/My_video.mp4: 384x640 1 Weed_VelvetLeaf, Done. (0.009s)\n",
      "video 1/1 (181/435) /home/tejas/Desktop/Weed/My_video.mp4: 384x640 2 Weed_VelvetLeafs, Done. (0.009s)\n",
      "video 1/1 (182/435) /home/tejas/Desktop/Weed/My_video.mp4: 384x640 2 Weed_VelvetLeafs, Done. (0.009s)\n",
      "video 1/1 (183/435) /home/tejas/Desktop/Weed/My_video.mp4: 384x640 2 Weed_VelvetLeafs, Done. (0.009s)\n",
      "video 1/1 (184/435) /home/tejas/Desktop/Weed/My_video.mp4: 384x640 2 Weed_VelvetLeafs, Done. (0.010s)\n",
      "video 1/1 (185/435) /home/tejas/Desktop/Weed/My_video.mp4: 384x640 2 Weed_VelvetLeafs, Done. (0.009s)\n",
      "video 1/1 (186/435) /home/tejas/Desktop/Weed/My_video.mp4: 384x640 2 Weed_VelvetLeafs, Done. (0.010s)\n",
      "video 1/1 (187/435) /home/tejas/Desktop/Weed/My_video.mp4: 384x640 2 Weed_VelvetLeafs, Done. (0.009s)\n",
      "video 1/1 (188/435) /home/tejas/Desktop/Weed/My_video.mp4: 384x640 2 Weed_VelvetLeafs, Done. (0.010s)\n",
      "video 1/1 (189/435) /home/tejas/Desktop/Weed/My_video.mp4: 384x640 2 Weed_VelvetLeafs, Done. (0.009s)\n",
      "video 1/1 (190/435) /home/tejas/Desktop/Weed/My_video.mp4: 384x640 2 Weed_VelvetLeafs, Done. (0.008s)\n",
      "video 1/1 (191/435) /home/tejas/Desktop/Weed/My_video.mp4: 384x640 2 Weed_VelvetLeafs, Done. (0.008s)\n",
      "video 1/1 (192/435) /home/tejas/Desktop/Weed/My_video.mp4: 384x640 2 Weed_VelvetLeafs, Done. (0.008s)\n",
      "video 1/1 (193/435) /home/tejas/Desktop/Weed/My_video.mp4: 384x640 2 Weed_VelvetLeafs, Done. (0.009s)\n",
      "video 1/1 (194/435) /home/tejas/Desktop/Weed/My_video.mp4: 384x640 2 Weed_VelvetLeafs, Done. (0.008s)\n",
      "video 1/1 (195/435) /home/tejas/Desktop/Weed/My_video.mp4: 384x640 2 Weed_VelvetLeafs, Done. (0.008s)\n",
      "video 1/1 (196/435) /home/tejas/Desktop/Weed/My_video.mp4: 384x640 2 Weed_VelvetLeafs, Done. (0.008s)\n",
      "video 1/1 (197/435) /home/tejas/Desktop/Weed/My_video.mp4: 384x640 2 Weed_VelvetLeafs, Done. (0.008s)\n",
      "video 1/1 (198/435) /home/tejas/Desktop/Weed/My_video.mp4: 384x640 2 Weed_VelvetLeafs, Done. (0.008s)\n",
      "video 1/1 (199/435) /home/tejas/Desktop/Weed/My_video.mp4: 384x640 2 Weed_VelvetLeafs, Done. (0.008s)\n",
      "video 1/1 (200/435) /home/tejas/Desktop/Weed/My_video.mp4: 384x640 2 Weed_VelvetLeafs, Done. (0.009s)\n",
      "video 1/1 (201/435) /home/tejas/Desktop/Weed/My_video.mp4: 384x640 2 Weed_VelvetLeafs, Done. (0.009s)\n",
      "video 1/1 (202/435) /home/tejas/Desktop/Weed/My_video.mp4: 384x640 2 Weed_VelvetLeafs, Done. (0.008s)\n",
      "video 1/1 (203/435) /home/tejas/Desktop/Weed/My_video.mp4: 384x640 2 Weed_VelvetLeafs, Done. (0.008s)\n",
      "video 1/1 (204/435) /home/tejas/Desktop/Weed/My_video.mp4: 384x640 2 Weed_VelvetLeafs, Done. (0.009s)\n",
      "video 1/1 (205/435) /home/tejas/Desktop/Weed/My_video.mp4: 384x640 2 Weed_VelvetLeafs, Done. (0.008s)\n",
      "video 1/1 (206/435) /home/tejas/Desktop/Weed/My_video.mp4: 384x640 2 Weed_VelvetLeafs, Done. (0.008s)\n",
      "video 1/1 (207/435) /home/tejas/Desktop/Weed/My_video.mp4: 384x640 2 Weed_VelvetLeafs, Done. (0.008s)\n",
      "video 1/1 (208/435) /home/tejas/Desktop/Weed/My_video.mp4: 384x640 2 Weed_VelvetLeafs, Done. (0.009s)\n",
      "video 1/1 (209/435) /home/tejas/Desktop/Weed/My_video.mp4: 384x640 2 Weed_VelvetLeafs, Done. (0.009s)\n",
      "video 1/1 (210/435) /home/tejas/Desktop/Weed/My_video.mp4: 384x640 2 Weed_VelvetLeafs, Done. (0.009s)\n",
      "video 1/1 (211/435) /home/tejas/Desktop/Weed/My_video.mp4: 384x640 2 Weed_VelvetLeafs, Done. (0.009s)\n",
      "video 1/1 (212/435) /home/tejas/Desktop/Weed/My_video.mp4: 384x640 2 Weed_VelvetLeafs, Done. (0.009s)\n",
      "video 1/1 (213/435) /home/tejas/Desktop/Weed/My_video.mp4: 384x640 2 Weed_VelvetLeafs, Done. (0.009s)\n",
      "video 1/1 (214/435) /home/tejas/Desktop/Weed/My_video.mp4: 384x640 2 Weed_VelvetLeafs, Done. (0.009s)\n",
      "video 1/1 (215/435) /home/tejas/Desktop/Weed/My_video.mp4: 384x640 2 Weed_VelvetLeafs, Done. (0.010s)\n",
      "video 1/1 (216/435) /home/tejas/Desktop/Weed/My_video.mp4: 384x640 2 Weed_VelvetLeafs, Done. (0.009s)\n",
      "video 1/1 (217/435) /home/tejas/Desktop/Weed/My_video.mp4: 384x640 2 Weed_VelvetLeafs, Done. (0.009s)\n",
      "video 1/1 (218/435) /home/tejas/Desktop/Weed/My_video.mp4: 384x640 2 Weed_VelvetLeafs, Done. (0.008s)\n",
      "video 1/1 (219/435) /home/tejas/Desktop/Weed/My_video.mp4: 384x640 2 Weed_VelvetLeafs, Done. (0.008s)\n",
      "video 1/1 (220/435) /home/tejas/Desktop/Weed/My_video.mp4: 384x640 2 Weed_VelvetLeafs, Done. (0.008s)\n",
      "video 1/1 (221/435) /home/tejas/Desktop/Weed/My_video.mp4: 384x640 2 Weed_VelvetLeafs, Done. (0.008s)\n",
      "video 1/1 (222/435) /home/tejas/Desktop/Weed/My_video.mp4: 384x640 2 Weed_VelvetLeafs, Done. (0.009s)\n"
     ]
    },
    {
     "name": "stdout",
     "output_type": "stream",
     "text": [
      "video 1/1 (223/435) /home/tejas/Desktop/Weed/My_video.mp4: 384x640 2 Weed_VelvetLeafs, Done. (0.008s)\n",
      "video 1/1 (224/435) /home/tejas/Desktop/Weed/My_video.mp4: 384x640 2 Weed_VelvetLeafs, Done. (0.008s)\n",
      "video 1/1 (225/435) /home/tejas/Desktop/Weed/My_video.mp4: 384x640 2 Weed_VelvetLeafs, Done. (0.009s)\n",
      "video 1/1 (226/435) /home/tejas/Desktop/Weed/My_video.mp4: 384x640 2 Weed_VelvetLeafs, Done. (0.009s)\n",
      "video 1/1 (227/435) /home/tejas/Desktop/Weed/My_video.mp4: 384x640 2 Weed_VelvetLeafs, Done. (0.009s)\n",
      "video 1/1 (228/435) /home/tejas/Desktop/Weed/My_video.mp4: 384x640 2 Weed_VelvetLeafs, Done. (0.008s)\n",
      "video 1/1 (229/435) /home/tejas/Desktop/Weed/My_video.mp4: 384x640 2 Weed_VelvetLeafs, Done. (0.009s)\n",
      "video 1/1 (230/435) /home/tejas/Desktop/Weed/My_video.mp4: 384x640 2 Weed_VelvetLeafs, Done. (0.010s)\n",
      "video 1/1 (231/435) /home/tejas/Desktop/Weed/My_video.mp4: 384x640 2 Weed_VelvetLeafs, Done. (0.009s)\n",
      "video 1/1 (232/435) /home/tejas/Desktop/Weed/My_video.mp4: 384x640 2 Weed_VelvetLeafs, Done. (0.009s)\n",
      "video 1/1 (233/435) /home/tejas/Desktop/Weed/My_video.mp4: 384x640 2 Weed_VelvetLeafs, Done. (0.009s)\n",
      "video 1/1 (234/435) /home/tejas/Desktop/Weed/My_video.mp4: 384x640 2 Weed_VelvetLeafs, Done. (0.009s)\n",
      "video 1/1 (235/435) /home/tejas/Desktop/Weed/My_video.mp4: 384x640 2 Weed_VelvetLeafs, Done. (0.008s)\n",
      "video 1/1 (236/435) /home/tejas/Desktop/Weed/My_video.mp4: 384x640 2 Weed_VelvetLeafs, Done. (0.009s)\n",
      "video 1/1 (237/435) /home/tejas/Desktop/Weed/My_video.mp4: 384x640 2 Weed_VelvetLeafs, Done. (0.008s)\n",
      "video 1/1 (238/435) /home/tejas/Desktop/Weed/My_video.mp4: 384x640 2 Weed_VelvetLeafs, Done. (0.008s)\n",
      "video 1/1 (239/435) /home/tejas/Desktop/Weed/My_video.mp4: 384x640 2 Weed_VelvetLeafs, Done. (0.008s)\n",
      "video 1/1 (240/435) /home/tejas/Desktop/Weed/My_video.mp4: 384x640 2 Weed_VelvetLeafs, Done. (0.009s)\n",
      "video 1/1 (241/435) /home/tejas/Desktop/Weed/My_video.mp4: 384x640 2 Weed_CommonChickweeds, Done. (0.009s)\n",
      "video 1/1 (242/435) /home/tejas/Desktop/Weed/My_video.mp4: 384x640 2 Weed_CommonChickweeds, Done. (0.009s)\n",
      "video 1/1 (243/435) /home/tejas/Desktop/Weed/My_video.mp4: 384x640 2 Weed_CommonChickweeds, Done. (0.009s)\n",
      "video 1/1 (244/435) /home/tejas/Desktop/Weed/My_video.mp4: 384x640 2 Weed_CommonChickweeds, Done. (0.009s)\n",
      "video 1/1 (245/435) /home/tejas/Desktop/Weed/My_video.mp4: 384x640 2 Weed_CommonChickweeds, Done. (0.009s)\n",
      "video 1/1 (246/435) /home/tejas/Desktop/Weed/My_video.mp4: 384x640 2 Weed_CommonChickweeds, Done. (0.009s)\n",
      "video 1/1 (247/435) /home/tejas/Desktop/Weed/My_video.mp4: 384x640 2 Weed_CommonChickweeds, Done. (0.009s)\n",
      "video 1/1 (248/435) /home/tejas/Desktop/Weed/My_video.mp4: 384x640 2 Weed_CommonChickweeds, Done. (0.009s)\n",
      "video 1/1 (249/435) /home/tejas/Desktop/Weed/My_video.mp4: 384x640 2 Weed_CommonChickweeds, Done. (0.008s)\n",
      "video 1/1 (250/435) /home/tejas/Desktop/Weed/My_video.mp4: 384x640 2 Weed_CommonChickweeds, Done. (0.008s)\n",
      "video 1/1 (251/435) /home/tejas/Desktop/Weed/My_video.mp4: 384x640 2 Weed_CommonChickweeds, Done. (0.008s)\n",
      "video 1/1 (252/435) /home/tejas/Desktop/Weed/My_video.mp4: 384x640 2 Weed_CommonChickweeds, Done. (0.008s)\n",
      "video 1/1 (253/435) /home/tejas/Desktop/Weed/My_video.mp4: 384x640 2 Weed_CommonChickweeds, Done. (0.008s)\n",
      "video 1/1 (254/435) /home/tejas/Desktop/Weed/My_video.mp4: 384x640 2 Weed_CommonChickweeds, Done. (0.009s)\n",
      "video 1/1 (255/435) /home/tejas/Desktop/Weed/My_video.mp4: 384x640 2 Weed_CommonChickweeds, Done. (0.009s)\n",
      "video 1/1 (256/435) /home/tejas/Desktop/Weed/My_video.mp4: 384x640 2 Weed_CommonChickweeds, Done. (0.009s)\n",
      "video 1/1 (257/435) /home/tejas/Desktop/Weed/My_video.mp4: 384x640 2 Weed_CommonChickweeds, Done. (0.009s)\n",
      "video 1/1 (258/435) /home/tejas/Desktop/Weed/My_video.mp4: 384x640 2 Weed_CommonChickweeds, Done. (0.009s)\n",
      "video 1/1 (259/435) /home/tejas/Desktop/Weed/My_video.mp4: 384x640 2 Weed_CommonChickweeds, Done. (0.009s)\n",
      "video 1/1 (260/435) /home/tejas/Desktop/Weed/My_video.mp4: 384x640 2 Weed_CommonChickweeds, Done. (0.009s)\n",
      "video 1/1 (261/435) /home/tejas/Desktop/Weed/My_video.mp4: 384x640 2 Weed_CommonChickweeds, Done. (0.008s)\n",
      "video 1/1 (262/435) /home/tejas/Desktop/Weed/My_video.mp4: 384x640 2 Weed_CommonChickweeds, Done. (0.008s)\n",
      "video 1/1 (263/435) /home/tejas/Desktop/Weed/My_video.mp4: 384x640 2 Weed_CommonChickweeds, Done. (0.008s)\n",
      "video 1/1 (264/435) /home/tejas/Desktop/Weed/My_video.mp4: 384x640 2 Weed_CommonChickweeds, Done. (0.008s)\n",
      "video 1/1 (265/435) /home/tejas/Desktop/Weed/My_video.mp4: 384x640 2 Weed_CommonChickweeds, Done. (0.009s)\n",
      "video 1/1 (266/435) /home/tejas/Desktop/Weed/My_video.mp4: 384x640 2 Weed_CommonChickweeds, Done. (0.008s)\n",
      "video 1/1 (267/435) /home/tejas/Desktop/Weed/My_video.mp4: 384x640 2 Weed_CommonChickweeds, Done. (0.008s)\n",
      "video 1/1 (268/435) /home/tejas/Desktop/Weed/My_video.mp4: 384x640 2 Weed_CommonChickweeds, Done. (0.008s)\n",
      "video 1/1 (269/435) /home/tejas/Desktop/Weed/My_video.mp4: 384x640 2 Weed_CommonChickweeds, Done. (0.008s)\n",
      "video 1/1 (270/435) /home/tejas/Desktop/Weed/My_video.mp4: 384x640 2 Weed_CommonChickweeds, Done. (0.008s)\n",
      "video 1/1 (271/435) /home/tejas/Desktop/Weed/My_video.mp4: 384x640 2 Weed_CommonChickweeds, Done. (0.008s)\n",
      "video 1/1 (272/435) /home/tejas/Desktop/Weed/My_video.mp4: 384x640 2 Weed_CommonChickweeds, Done. (0.009s)\n",
      "video 1/1 (273/435) /home/tejas/Desktop/Weed/My_video.mp4: 384x640 2 Weed_CommonChickweeds, Done. (0.009s)\n",
      "video 1/1 (274/435) /home/tejas/Desktop/Weed/My_video.mp4: 384x640 2 Weed_CommonChickweeds, Done. (0.009s)\n",
      "video 1/1 (275/435) /home/tejas/Desktop/Weed/My_video.mp4: 384x640 2 Weed_CommonChickweeds, Done. (0.009s)\n",
      "video 1/1 (276/435) /home/tejas/Desktop/Weed/My_video.mp4: 384x640 2 Weed_CommonChickweeds, Done. (0.009s)\n",
      "video 1/1 (277/435) /home/tejas/Desktop/Weed/My_video.mp4: 384x640 2 Weed_CommonChickweeds, Done. (0.009s)\n",
      "video 1/1 (278/435) /home/tejas/Desktop/Weed/My_video.mp4: 384x640 2 Weed_CommonChickweeds, Done. (0.009s)\n",
      "video 1/1 (279/435) /home/tejas/Desktop/Weed/My_video.mp4: 384x640 2 Weed_CommonChickweeds, Done. (0.009s)\n",
      "video 1/1 (280/435) /home/tejas/Desktop/Weed/My_video.mp4: 384x640 2 Weed_CommonChickweeds, Done. (0.009s)\n",
      "video 1/1 (281/435) /home/tejas/Desktop/Weed/My_video.mp4: 384x640 2 Weed_CommonChickweeds, Done. (0.008s)\n",
      "video 1/1 (282/435) /home/tejas/Desktop/Weed/My_video.mp4: 384x640 2 Weed_CommonChickweeds, Done. (0.008s)\n",
      "video 1/1 (283/435) /home/tejas/Desktop/Weed/My_video.mp4: 384x640 2 Weed_CommonChickweeds, Done. (0.008s)\n",
      "video 1/1 (284/435) /home/tejas/Desktop/Weed/My_video.mp4: 384x640 2 Weed_CommonChickweeds, Done. (0.008s)\n",
      "video 1/1 (285/435) /home/tejas/Desktop/Weed/My_video.mp4: 384x640 2 Weed_CommonChickweeds, Done. (0.008s)\n",
      "video 1/1 (286/435) /home/tejas/Desktop/Weed/My_video.mp4: 384x640 2 Weed_CommonChickweeds, Done. (0.008s)\n",
      "video 1/1 (287/435) /home/tejas/Desktop/Weed/My_video.mp4: 384x640 2 Weed_CommonChickweeds, Done. (0.008s)\n",
      "video 1/1 (288/435) /home/tejas/Desktop/Weed/My_video.mp4: 384x640 2 Weed_CommonChickweeds, Done. (0.009s)\n",
      "video 1/1 (289/435) /home/tejas/Desktop/Weed/My_video.mp4: 384x640 2 Weed_CommonChickweeds, Done. (0.009s)\n",
      "video 1/1 (290/435) /home/tejas/Desktop/Weed/My_video.mp4: 384x640 2 Weed_CommonChickweeds, Done. (0.009s)\n",
      "video 1/1 (291/435) /home/tejas/Desktop/Weed/My_video.mp4: 384x640 2 Weed_CommonChickweeds, Done. (0.009s)\n",
      "video 1/1 (292/435) /home/tejas/Desktop/Weed/My_video.mp4: 384x640 2 Weed_CommonChickweeds, Done. (0.009s)\n",
      "video 1/1 (293/435) /home/tejas/Desktop/Weed/My_video.mp4: 384x640 2 Weed_CommonChickweeds, Done. (0.009s)\n",
      "video 1/1 (294/435) /home/tejas/Desktop/Weed/My_video.mp4: 384x640 2 Weed_CommonChickweeds, Done. (0.009s)\n",
      "video 1/1 (295/435) /home/tejas/Desktop/Weed/My_video.mp4: 384x640 2 Weed_CommonChickweeds, Done. (0.009s)\n",
      "video 1/1 (296/435) /home/tejas/Desktop/Weed/My_video.mp4: 384x640 2 Weed_CommonChickweeds, Done. (0.008s)\n",
      "video 1/1 (297/435) /home/tejas/Desktop/Weed/My_video.mp4: 384x640 2 Weed_CommonChickweeds, Done. (0.008s)\n",
      "video 1/1 (298/435) /home/tejas/Desktop/Weed/My_video.mp4: 384x640 2 Weed_CommonChickweeds, Done. (0.008s)\n",
      "video 1/1 (299/435) /home/tejas/Desktop/Weed/My_video.mp4: 384x640 2 Weed_CommonChickweeds, Done. (0.008s)\n",
      "video 1/1 (300/435) /home/tejas/Desktop/Weed/My_video.mp4: 384x640 2 Weed_CommonChickweeds, Done. (0.008s)\n"
     ]
    },
    {
     "name": "stdout",
     "output_type": "stream",
     "text": [
      "video 1/1 (301/435) /home/tejas/Desktop/Weed/My_video.mp4: 384x640 1 Weed_BlackNightshade, Done. (0.008s)\n",
      "video 1/1 (302/435) /home/tejas/Desktop/Weed/My_video.mp4: 384x640 1 Weed_BlackNightshade, Done. (0.009s)\n",
      "video 1/1 (303/435) /home/tejas/Desktop/Weed/My_video.mp4: 384x640 1 Weed_BlackNightshade, Done. (0.008s)\n",
      "video 1/1 (304/435) /home/tejas/Desktop/Weed/My_video.mp4: 384x640 1 Weed_BlackNightshade, Done. (0.008s)\n",
      "video 1/1 (305/435) /home/tejas/Desktop/Weed/My_video.mp4: 384x640 1 Weed_BlackNightshade, Done. (0.008s)\n",
      "video 1/1 (306/435) /home/tejas/Desktop/Weed/My_video.mp4: 384x640 1 Weed_BlackNightshade, Done. (0.008s)\n",
      "video 1/1 (307/435) /home/tejas/Desktop/Weed/My_video.mp4: 384x640 1 Weed_BlackNightshade, Done. (0.008s)\n",
      "video 1/1 (308/435) /home/tejas/Desktop/Weed/My_video.mp4: 384x640 1 Weed_BlackNightshade, Done. (0.009s)\n",
      "video 1/1 (309/435) /home/tejas/Desktop/Weed/My_video.mp4: 384x640 1 Weed_BlackNightshade, Done. (0.009s)\n",
      "video 1/1 (310/435) /home/tejas/Desktop/Weed/My_video.mp4: 384x640 1 Weed_BlackNightshade, Done. (0.009s)\n",
      "video 1/1 (311/435) /home/tejas/Desktop/Weed/My_video.mp4: 384x640 1 Weed_BlackNightshade, Done. (0.009s)\n",
      "video 1/1 (312/435) /home/tejas/Desktop/Weed/My_video.mp4: 384x640 1 Weed_BlackNightshade, Done. (0.008s)\n",
      "video 1/1 (313/435) /home/tejas/Desktop/Weed/My_video.mp4: 384x640 1 Weed_BlackNightshade, Done. (0.009s)\n",
      "video 1/1 (314/435) /home/tejas/Desktop/Weed/My_video.mp4: 384x640 1 Weed_BlackNightshade, Done. (0.009s)\n",
      "video 1/1 (315/435) /home/tejas/Desktop/Weed/My_video.mp4: 384x640 1 Weed_BlackNightshade, Done. (0.010s)\n",
      "video 1/1 (316/435) /home/tejas/Desktop/Weed/My_video.mp4: 384x640 1 Weed_BlackNightshade, Done. (0.009s)\n",
      "video 1/1 (317/435) /home/tejas/Desktop/Weed/My_video.mp4: 384x640 1 Weed_BlackNightshade, Done. (0.008s)\n",
      "video 1/1 (318/435) /home/tejas/Desktop/Weed/My_video.mp4: 384x640 1 Weed_BlackNightshade, Done. (0.008s)\n",
      "video 1/1 (319/435) /home/tejas/Desktop/Weed/My_video.mp4: 384x640 1 Weed_BlackNightshade, Done. (0.009s)\n",
      "video 1/1 (320/435) /home/tejas/Desktop/Weed/My_video.mp4: 384x640 1 Weed_BlackNightshade, Done. (0.008s)\n",
      "video 1/1 (321/435) /home/tejas/Desktop/Weed/My_video.mp4: 384x640 1 Weed_BlackNightshade, Done. (0.008s)\n",
      "video 1/1 (322/435) /home/tejas/Desktop/Weed/My_video.mp4: 384x640 1 Weed_BlackNightshade, Done. (0.008s)\n",
      "video 1/1 (323/435) /home/tejas/Desktop/Weed/My_video.mp4: 384x640 1 Weed_BlackNightshade, Done. (0.008s)\n",
      "video 1/1 (324/435) /home/tejas/Desktop/Weed/My_video.mp4: 384x640 1 Weed_BlackNightshade, Done. (0.009s)\n",
      "video 1/1 (325/435) /home/tejas/Desktop/Weed/My_video.mp4: 384x640 1 Weed_BlackNightshade, Done. (0.009s)\n",
      "video 1/1 (326/435) /home/tejas/Desktop/Weed/My_video.mp4: 384x640 1 Weed_BlackNightshade, Done. (0.010s)\n",
      "video 1/1 (327/435) /home/tejas/Desktop/Weed/My_video.mp4: 384x640 1 Weed_BlackNightshade, Done. (0.009s)\n",
      "video 1/1 (328/435) /home/tejas/Desktop/Weed/My_video.mp4: 384x640 1 Weed_BlackNightshade, Done. (0.009s)\n",
      "video 1/1 (329/435) /home/tejas/Desktop/Weed/My_video.mp4: 384x640 1 Weed_BlackNightshade, Done. (0.010s)\n",
      "video 1/1 (330/435) /home/tejas/Desktop/Weed/My_video.mp4: 384x640 1 Weed_BlackNightshade, Done. (0.009s)\n",
      "video 1/1 (331/435) /home/tejas/Desktop/Weed/My_video.mp4: 384x640 1 Weed_BlackNightshade, Done. (0.009s)\n",
      "video 1/1 (332/435) /home/tejas/Desktop/Weed/My_video.mp4: 384x640 1 Weed_BlackNightshade, Done. (0.009s)\n",
      "video 1/1 (333/435) /home/tejas/Desktop/Weed/My_video.mp4: 384x640 1 Weed_BlackNightshade, Done. (0.009s)\n",
      "video 1/1 (334/435) /home/tejas/Desktop/Weed/My_video.mp4: 384x640 1 Weed_BlackNightshade, Done. (0.009s)\n",
      "video 1/1 (335/435) /home/tejas/Desktop/Weed/My_video.mp4: 384x640 1 Weed_BlackNightshade, Done. (0.009s)\n",
      "video 1/1 (336/435) /home/tejas/Desktop/Weed/My_video.mp4: 384x640 1 Weed_BlackNightshade, Done. (0.008s)\n",
      "video 1/1 (337/435) /home/tejas/Desktop/Weed/My_video.mp4: 384x640 1 Weed_BlackNightshade, Done. (0.008s)\n",
      "video 1/1 (338/435) /home/tejas/Desktop/Weed/My_video.mp4: 384x640 1 Weed_BlackNightshade, Done. (0.008s)\n",
      "video 1/1 (339/435) /home/tejas/Desktop/Weed/My_video.mp4: 384x640 1 Weed_BlackNightshade, Done. (0.008s)\n",
      "video 1/1 (340/435) /home/tejas/Desktop/Weed/My_video.mp4: 384x640 1 Weed_BlackNightshade, Done. (0.008s)\n",
      "video 1/1 (341/435) /home/tejas/Desktop/Weed/My_video.mp4: 384x640 1 Weed_BlackNightshade, Done. (0.008s)\n",
      "video 1/1 (342/435) /home/tejas/Desktop/Weed/My_video.mp4: 384x640 1 Weed_BlackNightshade, Done. (0.009s)\n",
      "video 1/1 (343/435) /home/tejas/Desktop/Weed/My_video.mp4: 384x640 1 Weed_BlackNightshade, Done. (0.009s)\n",
      "video 1/1 (344/435) /home/tejas/Desktop/Weed/My_video.mp4: 384x640 1 Weed_BlackNightshade, Done. (0.009s)\n",
      "video 1/1 (345/435) /home/tejas/Desktop/Weed/My_video.mp4: 384x640 1 Weed_BlackNightshade, Done. (0.009s)\n",
      "video 1/1 (346/435) /home/tejas/Desktop/Weed/My_video.mp4: 384x640 1 Weed_BlackNightshade, Done. (0.009s)\n",
      "video 1/1 (347/435) /home/tejas/Desktop/Weed/My_video.mp4: 384x640 1 Weed_BlackNightshade, Done. (0.009s)\n",
      "video 1/1 (348/435) /home/tejas/Desktop/Weed/My_video.mp4: 384x640 1 Weed_BlackNightshade, Done. (0.009s)\n",
      "video 1/1 (349/435) /home/tejas/Desktop/Weed/My_video.mp4: 384x640 1 Weed_BlackNightshade, Done. (0.009s)\n",
      "video 1/1 (350/435) /home/tejas/Desktop/Weed/My_video.mp4: 384x640 1 Weed_BlackNightshade, Done. (0.009s)\n",
      "video 1/1 (351/435) /home/tejas/Desktop/Weed/My_video.mp4: 384x640 1 Weed_BlackNightshade, Done. (0.008s)\n",
      "video 1/1 (352/435) /home/tejas/Desktop/Weed/My_video.mp4: 384x640 1 Weed_BlackNightshade, Done. (0.008s)\n",
      "video 1/1 (353/435) /home/tejas/Desktop/Weed/My_video.mp4: 384x640 1 Weed_BlackNightshade, Done. (0.009s)\n",
      "video 1/1 (354/435) /home/tejas/Desktop/Weed/My_video.mp4: 384x640 1 Weed_BlackNightshade, Done. (0.008s)\n",
      "video 1/1 (355/435) /home/tejas/Desktop/Weed/My_video.mp4: 384x640 1 Weed_BlackNightshade, Done. (0.008s)\n",
      "video 1/1 (356/435) /home/tejas/Desktop/Weed/My_video.mp4: 384x640 1 Weed_BlackNightshade, Done. (0.008s)\n",
      "video 1/1 (357/435) /home/tejas/Desktop/Weed/My_video.mp4: 384x640 1 Weed_BlackNightshade, Done. (0.008s)\n",
      "video 1/1 (358/435) /home/tejas/Desktop/Weed/My_video.mp4: 384x640 1 Weed_BlackNightshade, Done. (0.009s)\n",
      "video 1/1 (359/435) /home/tejas/Desktop/Weed/My_video.mp4: 384x640 1 Weed_BlackNightshade, Done. (0.008s)\n",
      "video 1/1 (360/435) /home/tejas/Desktop/Weed/My_video.mp4: 384x640 1 Weed_BlackNightshade, Done. (0.012s)\n",
      "video 1/1 (361/435) /home/tejas/Desktop/Weed/My_video.mp4: 384x640 Done. (0.008s)\n",
      "video 1/1 (362/435) /home/tejas/Desktop/Weed/My_video.mp4: 384x640 Done. (0.008s)\n",
      "video 1/1 (363/435) /home/tejas/Desktop/Weed/My_video.mp4: 384x640 Done. (0.009s)\n",
      "video 1/1 (364/435) /home/tejas/Desktop/Weed/My_video.mp4: 384x640 Done. (0.008s)\n",
      "video 1/1 (365/435) /home/tejas/Desktop/Weed/My_video.mp4: 384x640 Done. (0.008s)\n",
      "video 1/1 (366/435) /home/tejas/Desktop/Weed/My_video.mp4: 384x640 Done. (0.009s)\n",
      "video 1/1 (367/435) /home/tejas/Desktop/Weed/My_video.mp4: 384x640 Done. (0.008s)\n",
      "video 1/1 (368/435) /home/tejas/Desktop/Weed/My_video.mp4: 384x640 Done. (0.008s)\n",
      "video 1/1 (369/435) /home/tejas/Desktop/Weed/My_video.mp4: 384x640 Done. (0.008s)\n",
      "video 1/1 (370/435) /home/tejas/Desktop/Weed/My_video.mp4: 384x640 Done. (0.009s)\n",
      "video 1/1 (371/435) /home/tejas/Desktop/Weed/My_video.mp4: 384x640 Done. (0.009s)\n",
      "video 1/1 (372/435) /home/tejas/Desktop/Weed/My_video.mp4: 384x640 Done. (0.009s)\n",
      "video 1/1 (373/435) /home/tejas/Desktop/Weed/My_video.mp4: 384x640 Done. (0.009s)\n",
      "video 1/1 (374/435) /home/tejas/Desktop/Weed/My_video.mp4: 384x640 Done. (0.009s)\n",
      "video 1/1 (375/435) /home/tejas/Desktop/Weed/My_video.mp4: 384x640 Done. (0.009s)\n",
      "video 1/1 (376/435) /home/tejas/Desktop/Weed/My_video.mp4: 384x640 Done. (0.009s)\n",
      "video 1/1 (377/435) /home/tejas/Desktop/Weed/My_video.mp4: 384x640 Done. (0.009s)\n",
      "video 1/1 (378/435) /home/tejas/Desktop/Weed/My_video.mp4: 384x640 Done. (0.009s)\n",
      "video 1/1 (379/435) /home/tejas/Desktop/Weed/My_video.mp4: 384x640 Done. (0.009s)\n",
      "video 1/1 (380/435) /home/tejas/Desktop/Weed/My_video.mp4: 384x640 Done. (0.009s)\n",
      "video 1/1 (381/435) /home/tejas/Desktop/Weed/My_video.mp4: 384x640 Done. (0.009s)\n",
      "video 1/1 (382/435) /home/tejas/Desktop/Weed/My_video.mp4: 384x640 Done. (0.008s)\n",
      "video 1/1 (383/435) /home/tejas/Desktop/Weed/My_video.mp4: 384x640 Done. (0.009s)\n",
      "video 1/1 (384/435) /home/tejas/Desktop/Weed/My_video.mp4: 384x640 Done. (0.009s)\n"
     ]
    },
    {
     "name": "stdout",
     "output_type": "stream",
     "text": [
      "video 1/1 (385/435) /home/tejas/Desktop/Weed/My_video.mp4: 384x640 Done. (0.008s)\n",
      "video 1/1 (386/435) /home/tejas/Desktop/Weed/My_video.mp4: 384x640 Done. (0.008s)\n",
      "video 1/1 (387/435) /home/tejas/Desktop/Weed/My_video.mp4: 384x640 Done. (0.009s)\n",
      "video 1/1 (388/435) /home/tejas/Desktop/Weed/My_video.mp4: 384x640 Done. (0.008s)\n",
      "video 1/1 (389/435) /home/tejas/Desktop/Weed/My_video.mp4: 384x640 Done. (0.008s)\n",
      "video 1/1 (390/435) /home/tejas/Desktop/Weed/My_video.mp4: 384x640 Done. (0.009s)\n",
      "video 1/1 (391/435) /home/tejas/Desktop/Weed/My_video.mp4: 384x640 Done. (0.008s)\n",
      "video 1/1 (392/435) /home/tejas/Desktop/Weed/My_video.mp4: 384x640 Done. (0.009s)\n",
      "video 1/1 (393/435) /home/tejas/Desktop/Weed/My_video.mp4: 384x640 Done. (0.009s)\n",
      "video 1/1 (394/435) /home/tejas/Desktop/Weed/My_video.mp4: 384x640 Done. (0.008s)\n",
      "video 1/1 (395/435) /home/tejas/Desktop/Weed/My_video.mp4: 384x640 Done. (0.009s)\n",
      "video 1/1 (396/435) /home/tejas/Desktop/Weed/My_video.mp4: 384x640 Done. (0.009s)\n",
      "video 1/1 (397/435) /home/tejas/Desktop/Weed/My_video.mp4: 384x640 Done. (0.008s)\n",
      "video 1/1 (398/435) /home/tejas/Desktop/Weed/My_video.mp4: 384x640 Done. (0.009s)\n",
      "video 1/1 (399/435) /home/tejas/Desktop/Weed/My_video.mp4: 384x640 Done. (0.009s)\n",
      "video 1/1 (400/435) /home/tejas/Desktop/Weed/My_video.mp4: 384x640 Done. (0.008s)\n",
      "video 1/1 (401/435) /home/tejas/Desktop/Weed/My_video.mp4: 384x640 Done. (0.008s)\n",
      "video 1/1 (402/435) /home/tejas/Desktop/Weed/My_video.mp4: 384x640 Done. (0.009s)\n",
      "video 1/1 (403/435) /home/tejas/Desktop/Weed/My_video.mp4: 384x640 Done. (0.009s)\n",
      "video 1/1 (404/435) /home/tejas/Desktop/Weed/My_video.mp4: 384x640 Done. (0.009s)\n",
      "video 1/1 (405/435) /home/tejas/Desktop/Weed/My_video.mp4: 384x640 Done. (0.009s)\n",
      "video 1/1 (406/435) /home/tejas/Desktop/Weed/My_video.mp4: 384x640 Done. (0.009s)\n",
      "video 1/1 (407/435) /home/tejas/Desktop/Weed/My_video.mp4: 384x640 Done. (0.009s)\n",
      "video 1/1 (408/435) /home/tejas/Desktop/Weed/My_video.mp4: 384x640 Done. (0.009s)\n",
      "video 1/1 (409/435) /home/tejas/Desktop/Weed/My_video.mp4: 384x640 Done. (0.009s)\n",
      "video 1/1 (410/435) /home/tejas/Desktop/Weed/My_video.mp4: 384x640 Done. (0.009s)\n",
      "video 1/1 (411/435) /home/tejas/Desktop/Weed/My_video.mp4: 384x640 Done. (0.009s)\n",
      "video 1/1 (412/435) /home/tejas/Desktop/Weed/My_video.mp4: 384x640 Done. (0.009s)\n",
      "video 1/1 (413/435) /home/tejas/Desktop/Weed/My_video.mp4: 384x640 Done. (0.009s)\n",
      "video 1/1 (414/435) /home/tejas/Desktop/Weed/My_video.mp4: 384x640 Done. (0.009s)\n",
      "video 1/1 (415/435) /home/tejas/Desktop/Weed/My_video.mp4: 384x640 Done. (0.008s)\n",
      "video 1/1 (416/435) /home/tejas/Desktop/Weed/My_video.mp4: 384x640 Done. (0.009s)\n",
      "video 1/1 (417/435) /home/tejas/Desktop/Weed/My_video.mp4: 384x640 Done. (0.008s)\n",
      "video 1/1 (418/435) /home/tejas/Desktop/Weed/My_video.mp4: 384x640 Done. (0.008s)\n",
      "video 1/1 (419/435) /home/tejas/Desktop/Weed/My_video.mp4: 384x640 Done. (0.009s)\n",
      "video 1/1 (420/435) /home/tejas/Desktop/Weed/My_video.mp4: 384x640 Done. (0.008s)\n",
      "video 1/1 (421/435) /home/tejas/Desktop/Weed/My_video.mp4: 384x640 Done. (0.008s)\n",
      "video 1/1 (422/435) /home/tejas/Desktop/Weed/My_video.mp4: 384x640 Done. (0.009s)\n",
      "video 1/1 (423/435) /home/tejas/Desktop/Weed/My_video.mp4: 384x640 Done. (0.008s)\n",
      "video 1/1 (424/435) /home/tejas/Desktop/Weed/My_video.mp4: 384x640 Done. (0.009s)\n",
      "video 1/1 (425/435) /home/tejas/Desktop/Weed/My_video.mp4: 384x640 Done. (0.009s)\n",
      "video 1/1 (426/435) /home/tejas/Desktop/Weed/My_video.mp4: 384x640 Done. (0.009s)\n",
      "video 1/1 (427/435) /home/tejas/Desktop/Weed/My_video.mp4: 384x640 Done. (0.008s)\n",
      "video 1/1 (428/435) /home/tejas/Desktop/Weed/My_video.mp4: 384x640 Done. (0.009s)\n",
      "video 1/1 (429/435) /home/tejas/Desktop/Weed/My_video.mp4: 384x640 Done. (0.009s)\n",
      "video 1/1 (430/435) /home/tejas/Desktop/Weed/My_video.mp4: 384x640 Done. (0.009s)\n",
      "video 1/1 (431/435) /home/tejas/Desktop/Weed/My_video.mp4: 384x640 Done. (0.009s)\n",
      "video 1/1 (432/435) /home/tejas/Desktop/Weed/My_video.mp4: 384x640 Done. (0.009s)\n",
      "video 1/1 (433/435) /home/tejas/Desktop/Weed/My_video.mp4: 384x640 Done. (0.009s)\n",
      "video 1/1 (434/435) /home/tejas/Desktop/Weed/My_video.mp4: 384x640 Done. (0.009s)\n",
      "video 1/1 (435/435) /home/tejas/Desktop/Weed/My_video.mp4: 384x640 Done. (0.009s)\n",
      "Speed: 0.4ms pre-process, 8.5ms inference, 1.0ms NMS per image at shape (1, 3, 640, 640)\n",
      "Results saved to \u001b[1mruns/detect/exp\u001b[0m\n"
     ]
    }
   ],
   "source": [
    "!python3 detect.py --weights runs/train/exp16/weights/best.pt --img 640 --conf 0.25 --source /home/tejas/Desktop/Weed/My_video.mp4\n"
   ]
  },
  {
   "cell_type": "markdown",
   "metadata": {
    "id": "hkAzDWJ7cWTr"
   },
   "source": [
    "&nbsp;&nbsp;&nbsp;&nbsp;&nbsp;&nbsp;&nbsp;&nbsp;\n",
    "<img align=\"left\" src=\"https://user-images.githubusercontent.com/26833433/127574988-6a558aa1-d268-44b9-bf6b-62d4c605cc72.jpg\" width=\"600\">"
   ]
  },
  {
   "cell_type": "markdown",
   "metadata": {
    "id": "0eq1SMWl6Sfn"
   },
   "source": [
    "# 2. Validate\n",
    "Validate a model's accuracy on [COCO](https://cocodataset.org/#home) val or test-dev datasets. Models are downloaded automatically from the [latest YOLOv5 release](https://github.com/ultralytics/yolov5/releases). To show results by class use the `--verbose` flag. Note that `pycocotools` metrics may be ~1% better than the equivalent repo metrics, as is visible below, due to slight differences in mAP computation."
   ]
  },
  {
   "cell_type": "markdown",
   "metadata": {
    "id": "eyTZYGgRjnMc"
   },
   "source": [
    "## COCO val\n",
    "Download [COCO val 2017](https://github.com/ultralytics/yolov5/blob/74b34872fdf41941cddcf243951cdb090fbac17b/data/coco.yaml#L14) dataset (1GB - 5000 images), and test model accuracy."
   ]
  },
  {
   "cell_type": "code",
   "execution_count": null,
   "metadata": {
    "colab": {
     "base_uri": "https://localhost:8080/",
     "height": 49,
     "referenced_widgets": [
      "572de771c7b34c1481def33bd5ed690d",
      "20c89dc0d82a4bdf8756bf5e34152292",
      "61026f684725441db2a640e531807675",
      "8d2e16d90e13449598d7b3fac75f78a3",
      "a09d90f1bd374ece9a29bc6cfe07c072",
      "801e720897804703b4d32f99f84cc3b8",
      "c9fb2e268cc94d508d909b3b72ac9df3",
      "bfbc16e88df24fae93e8c80538e78273",
      "d9ffa50bddb7455ca4d67ec220c4a10c",
      "8be83ee30f804775aa55aeb021bf515b",
      "78e5b8dba72942bfacfee54ceec53784"
     ]
    },
    "id": "WQPtK1QYVaD_",
    "outputId": "47c358af-138d-42d9-ca89-4364283df9e3"
   },
   "outputs": [],
   "source": [
    "# Download COCO val\n",
    "torch.hub.download_url_to_file('https://ultralytics.com/assets/coco2017val.zip', 'tmp.zip')\n",
    "!unzip -q tmp.zip -d ../datasets && rm tmp.zip"
   ]
  },
  {
   "cell_type": "code",
   "execution_count": null,
   "metadata": {
    "colab": {
     "base_uri": "https://localhost:8080/"
    },
    "id": "X58w8JLpMnjH",
    "outputId": "979fe4c2-a058-44de-b401-3cb67878a1b9"
   },
   "outputs": [],
   "source": [
    "# Run YOLOv5x on COCO val\n",
    "!python val.py --weights yolov5x.pt --data coco.yaml --img 640 --iou 0.65 --half"
   ]
  },
  {
   "cell_type": "markdown",
   "metadata": {
    "id": "rc_KbFk0juX2"
   },
   "source": [
    "## COCO test\n",
    "Download [COCO test2017](https://github.com/ultralytics/yolov5/blob/74b34872fdf41941cddcf243951cdb090fbac17b/data/coco.yaml#L15) dataset (7GB - 40,000 images), to test model accuracy on test-dev set (**20,000 images, no labels**). Results are saved to a `*.json` file which should be **zipped** and submitted to the evaluation server at https://competitions.codalab.org/competitions/20794."
   ]
  },
  {
   "cell_type": "code",
   "execution_count": null,
   "metadata": {
    "id": "V0AJnSeCIHyJ"
   },
   "outputs": [],
   "source": [
    "# Download COCO test-dev2017\n",
    "torch.hub.download_url_to_file('https://ultralytics.com/assets/coco2017labels.zip', 'tmp.zip')\n",
    "!unzip -q tmp.zip -d ../datasets && rm tmp.zip\n",
    "!f=\"test2017.zip\" && curl http://images.cocodataset.org/zips/$f -o $f && unzip -q $f -d ../datasets/coco/images"
   ]
  },
  {
   "cell_type": "code",
   "execution_count": null,
   "metadata": {
    "id": "29GJXAP_lPrt"
   },
   "outputs": [],
   "source": [
    "# Run YOLOv5x on COCO test\n",
    "!python val.py --weights yolov5x.pt --data coco.yaml --img 640 --iou 0.65 --half --task test"
   ]
  },
  {
   "cell_type": "markdown",
   "metadata": {
    "id": "ZY2VXXXu74w5"
   },
   "source": [
    "# 3. Train\n",
    "\n",
    "<p align=\"\"><a href=\"https://roboflow.com/?ref=ultralytics\"><img width=\"1000\" src=\"https://uploads-ssl.webflow.com/5f6bc60e665f54545a1e52a5/615627e5824c9c6195abfda9_computer-vision-cycle.png\"/></a></p>\n",
    "Close the active learning loop by sampling images from your inference conditions with the `roboflow` pip package\n",
    "<br><br>\n",
    "\n",
    "Train a YOLOv5s model on the [COCO128](https://www.kaggle.com/ultralytics/coco128) dataset with `--data coco128.yaml`, starting from pretrained `--weights yolov5s.pt`, or from randomly initialized `--weights '' --cfg yolov5s.yaml`.\n",
    "\n",
    "- **Pretrained [Models](https://github.com/ultralytics/yolov5/tree/master/models)** are downloaded\n",
    "automatically from the [latest YOLOv5 release](https://github.com/ultralytics/yolov5/releases)\n",
    "- **[Datasets](https://github.com/ultralytics/yolov5/tree/master/data)** available for autodownload include: [COCO](https://github.com/ultralytics/yolov5/blob/master/data/coco.yaml), [COCO128](https://github.com/ultralytics/yolov5/blob/master/data/coco128.yaml), [VOC](https://github.com/ultralytics/yolov5/blob/master/data/VOC.yaml), [Argoverse](https://github.com/ultralytics/yolov5/blob/master/data/Argoverse.yaml), [VisDrone](https://github.com/ultralytics/yolov5/blob/master/data/VisDrone.yaml), [GlobalWheat](https://github.com/ultralytics/yolov5/blob/master/data/GlobalWheat2020.yaml), [xView](https://github.com/ultralytics/yolov5/blob/master/data/xView.yaml), [Objects365](https://github.com/ultralytics/yolov5/blob/master/data/Objects365.yaml), [SKU-110K](https://github.com/ultralytics/yolov5/blob/master/data/SKU-110K.yaml).\n",
    "- **Training Results** are saved to `runs/train/` with incrementing run directories, i.e. `runs/train/exp2`, `runs/train/exp3` etc.\n",
    "<br><br>\n",
    "\n",
    "## Train on Custom Data with Roboflow 🌟 NEW\n",
    "\n",
    "[Roboflow](https://roboflow.com/?ref=ultralytics) enables you to easily **organize, label, and prepare** a high quality dataset with your own custom data. Roboflow also makes it easy to establish an active learning pipeline, collaborate with your team on dataset improvement, and integrate directly into your model building workflow with the `roboflow` pip package.\n",
    "\n",
    "- Custom Training Example: [https://blog.roboflow.com/how-to-train-yolov5-on-a-custom-dataset/](https://blog.roboflow.com/how-to-train-yolov5-on-a-custom-dataset/?ref=ultralytics)\n",
    "- Custom Training Notebook: [![Open In Colab](https://colab.research.google.com/assets/colab-badge.svg)](https://colab.research.google.com/github/roboflow-ai/yolov5-custom-training-tutorial/blob/main/yolov5-custom-training.ipynb)\n",
    "<br>\n",
    "\n",
    "<p align=\"\"><a href=\"https://roboflow.com/?ref=ultralytics\"><img width=\"480\" src=\"https://uploads-ssl.webflow.com/5f6bc60e665f54545a1e52a5/6152a275ad4b4ac20cd2e21a_roboflow-annotate.gif\"/></a></p>Label images lightning fast (including with model-assisted labeling)"
   ]
  },
  {
   "cell_type": "code",
   "execution_count": null,
   "metadata": {
    "id": "bOy5KI2ncnWd"
   },
   "outputs": [],
   "source": [
    "# Tensorboard  (optional)\n",
    "%load_ext tensorboard\n",
    "%tensorboard --logdir runs/train"
   ]
  },
  {
   "cell_type": "code",
   "execution_count": null,
   "metadata": {
    "id": "2fLAV42oNb7M"
   },
   "outputs": [],
   "source": [
    "# Weights & Biases  (optional)\n",
    "%pip install -q wandb\n",
    "import wandb\n",
    "wandb.login()"
   ]
  },
  {
   "cell_type": "code",
   "execution_count": 3,
   "metadata": {},
   "outputs": [
    {
     "name": "stdout",
     "output_type": "stream",
     "text": [
      "Collecting seaborn\n",
      "  Downloading seaborn-0.11.2-py3-none-any.whl (292 kB)\n",
      "     -------------------------------------- 292.8/292.8 kB 2.3 MB/s eta 0:00:00\n",
      "Requirement already satisfied: numpy>=1.15 in c:\\users\\tejas rathod\\appdata\\local\\programs\\python\\python310\\lib\\site-packages (from seaborn) (1.22.4)\n",
      "Requirement already satisfied: matplotlib>=2.2 in c:\\users\\tejas rathod\\appdata\\local\\programs\\python\\python310\\lib\\site-packages (from seaborn) (3.5.2)\n",
      "Collecting scipy>=1.0\n",
      "  Downloading scipy-1.8.1-cp310-cp310-win_amd64.whl (36.9 MB)\n",
      "     ---------------------------------------- 36.9/36.9 MB 5.3 MB/s eta 0:00:00\n",
      "Requirement already satisfied: pandas>=0.23 in c:\\users\\tejas rathod\\appdata\\local\\programs\\python\\python310\\lib\\site-packages (from seaborn) (1.4.2)\n",
      "Requirement already satisfied: packaging>=20.0 in c:\\users\\tejas rathod\\appdata\\local\\programs\\python\\python310\\lib\\site-packages (from matplotlib>=2.2->seaborn) (21.3)\n",
      "Requirement already satisfied: pillow>=6.2.0 in c:\\users\\tejas rathod\\appdata\\local\\programs\\python\\python310\\lib\\site-packages (from matplotlib>=2.2->seaborn) (9.1.1)\n",
      "Requirement already satisfied: python-dateutil>=2.7 in c:\\users\\tejas rathod\\appdata\\local\\programs\\python\\python310\\lib\\site-packages (from matplotlib>=2.2->seaborn) (2.8.2)\n",
      "Requirement already satisfied: pyparsing>=2.2.1 in c:\\users\\tejas rathod\\appdata\\local\\programs\\python\\python310\\lib\\site-packages (from matplotlib>=2.2->seaborn) (3.0.9)\n",
      "Requirement already satisfied: kiwisolver>=1.0.1 in c:\\users\\tejas rathod\\appdata\\local\\programs\\python\\python310\\lib\\site-packages (from matplotlib>=2.2->seaborn) (1.4.2)\n",
      "Requirement already satisfied: fonttools>=4.22.0 in c:\\users\\tejas rathod\\appdata\\local\\programs\\python\\python310\\lib\\site-packages (from matplotlib>=2.2->seaborn) (4.33.3)\n",
      "Requirement already satisfied: cycler>=0.10 in c:\\users\\tejas rathod\\appdata\\local\\programs\\python\\python310\\lib\\site-packages (from matplotlib>=2.2->seaborn) (0.11.0)\n",
      "Requirement already satisfied: pytz>=2020.1 in c:\\users\\tejas rathod\\appdata\\local\\programs\\python\\python310\\lib\\site-packages (from pandas>=0.23->seaborn) (2022.1)\n",
      "Requirement already satisfied: six>=1.5 in c:\\users\\tejas rathod\\appdata\\local\\programs\\python\\python310\\lib\\site-packages (from python-dateutil>=2.7->matplotlib>=2.2->seaborn) (1.16.0)\n",
      "Installing collected packages: scipy, seaborn\n",
      "Successfully installed scipy-1.8.1 seaborn-0.11.2\n",
      "Note: you may need to restart the kernel to use updated packages.\n"
     ]
    },
    {
     "name": "stderr",
     "output_type": "stream",
     "text": [
      "WARNING: There was an error checking the latest version of pip.\n"
     ]
    }
   ],
   "source": [
    "pip install seaborn"
   ]
  },
  {
   "cell_type": "code",
   "execution_count": 2,
   "metadata": {
    "scrolled": false
   },
   "outputs": [
    {
     "name": "stderr",
     "output_type": "stream",
     "text": [
      "2022-06-21 17:07:47.380915: I tensorflow/stream_executor/platform/default/dso_loader.cc:49] Successfully opened dynamic library libcudart.so.11.0\n"
     ]
    }
   ],
   "source": [
    "import tensorflow as tf"
   ]
  },
  {
   "cell_type": "code",
   "execution_count": 4,
   "metadata": {
    "scrolled": true
   },
   "outputs": [],
   "source": [
    "gpus = tf.config.experimental.list_physical_devices('GPU')\n",
    "for gpu in gpus:\n",
    "    tf.config.experimental.set_memory_growth(gpu, True)"
   ]
  },
  {
   "cell_type": "code",
   "execution_count": 5,
   "metadata": {},
   "outputs": [],
   "source": [
    "def force_cudnn_initialization():\n",
    "    s = 32\n",
    "    dev = torch.device('cuda')\n",
    "    torch.nn.functional.conv2d(torch.zeros(s, s, s, s, device=dev), torch.zeros(s, s, s, s, device=dev))"
   ]
  },
  {
   "cell_type": "code",
   "execution_count": 6,
   "metadata": {
    "colab": {
     "base_uri": "https://localhost:8080/"
    },
    "id": "1NcFxRcFdJ_O",
    "outputId": "be9424b5-34d6-4de0-e951-2c5ae334721e",
    "scrolled": true
   },
   "outputs": [
    {
     "name": "stdout",
     "output_type": "stream",
     "text": [
      "\u001b[34m\u001b[1mtrain: \u001b[0mweights=yolov5s.pt, cfg=, data=coco128.yaml, hyp=data/hyps/hyp.scratch-low.yaml, epochs=50, batch_size=12, imgsz=640, rect=False, resume=False, nosave=False, noval=False, noautoanchor=False, noplots=False, evolve=None, bucket=, cache=ram, image_weights=False, device=, multi_scale=False, single_cls=False, optimizer=SGD, sync_bn=False, workers=8, project=runs/train, name=exp, exist_ok=False, quad=False, cos_lr=False, label_smoothing=0.0, patience=100, freeze=[0], save_period=-1, local_rank=-1, entity=None, upload_dataset=False, bbox_interval=-1, artifact_alias=latest\n",
      "\u001b[34m\u001b[1mgithub: \u001b[0mskipping check (not a git repository), for updates see https://github.com/ultralytics/yolov5\n",
      "YOLOv5 🚀 2022-6-20 Python-3.8.10 torch-1.9.0+cu102 CUDA:0 (NVIDIA GeForce GTX 1650, 3904MiB)\n",
      "\n",
      "\u001b[34m\u001b[1mhyperparameters: \u001b[0mlr0=0.01, lrf=0.01, momentum=0.937, weight_decay=0.0005, warmup_epochs=3.0, warmup_momentum=0.8, warmup_bias_lr=0.1, box=0.05, cls=0.5, cls_pw=1.0, obj=1.0, obj_pw=1.0, iou_t=0.2, anchor_t=4.0, fl_gamma=0.0, hsv_h=0.015, hsv_s=0.7, hsv_v=0.4, degrees=0.0, translate=0.1, scale=0.5, shear=0.0, perspective=0.0, flipud=0.0, fliplr=0.5, mosaic=1.0, mixup=0.0, copy_paste=0.0\n",
      "\u001b[34m\u001b[1mWeights & Biases: \u001b[0mrun 'pip install wandb' to automatically track and visualize YOLOv5 🚀 runs (RECOMMENDED)\n",
      "\u001b[34m\u001b[1mTensorBoard: \u001b[0mStart with 'tensorboard --logdir runs/train', view at http://localhost:6006/\n",
      "2022-06-21 17:09:07.357951: I tensorflow/stream_executor/platform/default/dso_loader.cc:49] Successfully opened dynamic library libcudart.so.11.0\n",
      "Overriding model.yaml nc=80 with nc=3\n",
      "\n",
      "                 from  n    params  module                                  arguments                     \n",
      "  0                -1  1      3520  models.common.Conv                      [3, 32, 6, 2, 2]              \n",
      "  1                -1  1     18560  models.common.Conv                      [32, 64, 3, 2]                \n",
      "  2                -1  1     18816  models.common.C3                        [64, 64, 1]                   \n",
      "  3                -1  1     73984  models.common.Conv                      [64, 128, 3, 2]               \n",
      "  4                -1  2    115712  models.common.C3                        [128, 128, 2]                 \n",
      "  5                -1  1    295424  models.common.Conv                      [128, 256, 3, 2]              \n",
      "  6                -1  3    625152  models.common.C3                        [256, 256, 3]                 \n",
      "  7                -1  1   1180672  models.common.Conv                      [256, 512, 3, 2]              \n",
      "  8                -1  1   1182720  models.common.C3                        [512, 512, 1]                 \n",
      "  9                -1  1    656896  models.common.SPPF                      [512, 512, 5]                 \n",
      " 10                -1  1    131584  models.common.Conv                      [512, 256, 1, 1]              \n",
      " 11                -1  1         0  torch.nn.modules.upsampling.Upsample    [None, 2, 'nearest']          \n",
      " 12           [-1, 6]  1         0  models.common.Concat                    [1]                           \n",
      " 13                -1  1    361984  models.common.C3                        [512, 256, 1, False]          \n",
      " 14                -1  1     33024  models.common.Conv                      [256, 128, 1, 1]              \n",
      " 15                -1  1         0  torch.nn.modules.upsampling.Upsample    [None, 2, 'nearest']          \n",
      " 16           [-1, 4]  1         0  models.common.Concat                    [1]                           \n",
      " 17                -1  1     90880  models.common.C3                        [256, 128, 1, False]          \n",
      " 18                -1  1    147712  models.common.Conv                      [128, 128, 3, 2]              \n",
      " 19          [-1, 14]  1         0  models.common.Concat                    [1]                           \n",
      " 20                -1  1    296448  models.common.C3                        [256, 256, 1, False]          \n",
      " 21                -1  1    590336  models.common.Conv                      [256, 256, 3, 2]              \n",
      " 22          [-1, 10]  1         0  models.common.Concat                    [1]                           \n",
      " 23                -1  1   1182720  models.common.C3                        [512, 512, 1, False]          \n",
      " 24      [17, 20, 23]  1     21576  models.yolo.Detect                      [3, [[10, 13, 16, 30, 33, 23], [30, 61, 62, 45, 59, 119], [116, 90, 156, 198, 373, 326]], [128, 256, 512]]\n",
      "Model summary: 270 layers, 7027720 parameters, 7027720 gradients\n",
      "\n",
      "Transferred 343/349 items from yolov5s.pt\n",
      "\u001b[34m\u001b[1mAMP: \u001b[0mchecks passed ✅\n",
      "Scaled weight_decay = 0.00046875\n",
      "\u001b[34m\u001b[1moptimizer:\u001b[0m SGD with parameter groups 57 weight (no decay), 60 weight, 60 bias\n",
      "\u001b[34m\u001b[1mtrain: \u001b[0mScanning '/home/tejas/Desktop/Weed/train_data/../train_data/labels/train.\u001b[0m\n",
      "\u001b[34m\u001b[1mtrain: \u001b[0mCaching images (0.3GB ram): 100%|██████████| 294/294 [00:18<00:00, 15.68i\u001b[0m\n",
      "\u001b[34m\u001b[1mval: \u001b[0mScanning '/home/tejas/Desktop/Weed/train_data/../train_data/labels/val.cach\u001b[0m\n",
      "\u001b[34m\u001b[1mval: \u001b[0mCaching images (0.0GB ram): 100%|██████████| 36/36 [00:03<00:00,  9.75it/s]\u001b[0m\n",
      "[W pthreadpool-cpp.cc:90] Warning: Leaking Caffe2 thread-pool after fork. (function pthreadpool)\n",
      "[W pthreadpool-cpp.cc:90] Warning: Leaking Caffe2 thread-pool after fork. (function pthreadpool)\n",
      "[W pthreadpool-cpp.cc:90] Warning: Leaking Caffe2 thread-pool after fork. (function pthreadpool)\n",
      "[W pthreadpool-cpp.cc:90] Warning: Leaking Caffe2 thread-pool after fork. (function pthreadpool)\n",
      "[W pthreadpool-cpp.cc:90] Warning: Leaking Caffe2 thread-pool after fork. (function pthreadpool)\n",
      "[W pthreadpool-cpp.cc:90] Warning: Leaking Caffe2 thread-pool after fork. (function pthreadpool)\n",
      "[W pthreadpool-cpp.cc:90] Warning: Leaking Caffe2 thread-pool after fork. (function pthreadpool)\n",
      "[W pthreadpool-cpp.cc:90] Warning: Leaking Caffe2 thread-pool after fork. (function pthreadpool)\n",
      "Plotting labels to runs/train/exp16/labels.jpg... \n",
      "\n",
      "\u001b[34m\u001b[1mAutoAnchor: \u001b[0m2.76 anchors/target, 1.000 Best Possible Recall (BPR). Current anchors are a good fit to dataset ✅\n",
      "Image sizes 640 train, 640 val\n",
      "Using 8 dataloader workers\n",
      "Logging results to \u001b[1mruns/train/exp16\u001b[0m\n",
      "Starting training for 50 epochs...\n",
      "\n",
      "     Epoch   gpu_mem       box       obj       cls    labels  img_size\n",
      "      0/49     2.68G   0.09473   0.03118   0.03274        18       640: 100%|███\n",
      "               Class     Images     Labels          P          R     mAP@.5 mAP@\n",
      "                 all         36         39    0.00316      0.879      0.044     0.0104\n",
      "\n",
      "     Epoch   gpu_mem       box       obj       cls    labels  img_size\n",
      "      1/49      2.5G   0.06593   0.03026   0.02913        14       640: 100%|███\n",
      "               Class     Images     Labels          P          R     mAP@.5 mAP@\n",
      "                 all         36         39      0.356     0.0714     0.0485     0.0158\n",
      "\n",
      "     Epoch   gpu_mem       box       obj       cls    labels  img_size\n",
      "      2/49      2.5G   0.05598   0.02408   0.02135        19       640: 100%|███\n",
      "               Class     Images     Labels          P          R     mAP@.5 mAP@\n",
      "                 all         36         39      0.684      0.238      0.128     0.0397\n",
      "\n",
      "     Epoch   gpu_mem       box       obj       cls    labels  img_size\n",
      "      3/49      2.5G   0.05937    0.0216   0.02116        20       640: 100%|███\n",
      "               Class     Images     Labels          P          R     mAP@.5 mAP@\n",
      "                 all         36         39      0.101      0.143      0.154     0.0417\n",
      "\n",
      "     Epoch   gpu_mem       box       obj       cls    labels  img_size\n",
      "      4/49      2.5G   0.05413   0.02193   0.01818        12       640: 100%|███\n",
      "               Class     Images     Labels          P          R     mAP@.5 mAP@\n",
      "                 all         36         39      0.224       0.48      0.312      0.143\n",
      "\n",
      "     Epoch   gpu_mem       box       obj       cls    labels  img_size\n",
      "      5/49      2.5G     0.056    0.0216   0.01876        17       640: 100%|███\n",
      "               Class     Images     Labels          P          R     mAP@.5 mAP@\n",
      "                 all         36         39    0.00209      0.373    0.00316   0.000812\n",
      "\n",
      "     Epoch   gpu_mem       box       obj       cls    labels  img_size\n"
     ]
    },
    {
     "name": "stdout",
     "output_type": "stream",
     "text": [
      "      6/49      2.5G   0.05265   0.02083    0.0186        17       640: 100%|███\n",
      "               Class     Images     Labels          P          R     mAP@.5 mAP@\n",
      "                 all         36         39      0.204      0.188      0.162     0.0648\n",
      "\n",
      "     Epoch   gpu_mem       box       obj       cls    labels  img_size\n",
      "      7/49      2.5G   0.05066   0.02067   0.01752        15       640: 100%|███\n",
      "               Class     Images     Labels          P          R     mAP@.5 mAP@\n",
      "                 all         36         39      0.239      0.445      0.224     0.0567\n",
      "\n",
      "     Epoch   gpu_mem       box       obj       cls    labels  img_size\n",
      "      8/49      2.5G   0.05192   0.01988   0.01401        15       640: 100%|███\n",
      "               Class     Images     Labels          P          R     mAP@.5 mAP@\n",
      "                 all         36         39      0.877      0.351       0.49      0.187\n",
      "\n",
      "     Epoch   gpu_mem       box       obj       cls    labels  img_size\n",
      "      9/49      2.5G   0.05145   0.01953   0.01546        17       640: 100%|███\n",
      "               Class     Images     Labels          P          R     mAP@.5 mAP@\n",
      "                 all         36         39      0.816       0.19      0.139     0.0306\n",
      "\n",
      "     Epoch   gpu_mem       box       obj       cls    labels  img_size\n",
      "     10/49      2.5G   0.04281   0.01981   0.01349        15       640: 100%|███\n",
      "               Class     Images     Labels          P          R     mAP@.5 mAP@\n",
      "                 all         36         39      0.507      0.669      0.624       0.29\n",
      "\n",
      "     Epoch   gpu_mem       box       obj       cls    labels  img_size\n",
      "     11/49      2.5G   0.04538   0.02003   0.01558        17       640: 100%|███\n",
      "               Class     Images     Labels          P          R     mAP@.5 mAP@\n",
      "                 all         36         39      0.164      0.121      0.129     0.0604\n",
      "\n",
      "     Epoch   gpu_mem       box       obj       cls    labels  img_size\n",
      "     12/49      2.5G   0.04669   0.01995    0.0106        15       640: 100%|███\n",
      "               Class     Images     Labels          P          R     mAP@.5 mAP@\n",
      "                 all         36         39      0.573      0.632      0.633      0.342\n",
      "\n",
      "     Epoch   gpu_mem       box       obj       cls    labels  img_size\n",
      "     13/49      2.5G   0.03939   0.01777  0.009259        17       640: 100%|███\n",
      "               Class     Images     Labels          P          R     mAP@.5 mAP@\n",
      "                 all         36         39       0.42      0.558      0.431      0.168\n",
      "\n",
      "     Epoch   gpu_mem       box       obj       cls    labels  img_size\n",
      "     14/49      2.5G   0.04314   0.01845  0.009462        20       640: 100%|███\n",
      "               Class     Images     Labels          P          R     mAP@.5 mAP@\n",
      "                 all         36         39      0.626      0.679       0.76      0.406\n",
      "\n",
      "     Epoch   gpu_mem       box       obj       cls    labels  img_size\n",
      "     15/49      2.5G   0.04482   0.01844  0.009913        13       640: 100%|███\n",
      "               Class     Images     Labels          P          R     mAP@.5 mAP@\n",
      "                 all         36         39      0.375      0.288      0.286      0.104\n",
      "\n",
      "     Epoch   gpu_mem       box       obj       cls    labels  img_size\n",
      "     16/49      2.5G   0.04714   0.01807  0.007487        17       640: 100%|███\n",
      "               Class     Images     Labels          P          R     mAP@.5 mAP@\n",
      "                 all         36         39      0.787      0.705      0.732      0.446\n",
      "\n",
      "     Epoch   gpu_mem       box       obj       cls    labels  img_size\n",
      "     17/49      2.5G   0.04296   0.01808  0.009459        16       640: 100%|███\n",
      "               Class     Images     Labels          P          R     mAP@.5 mAP@\n",
      "                 all         36         39      0.804      0.738      0.803      0.399\n",
      "\n",
      "     Epoch   gpu_mem       box       obj       cls    labels  img_size\n",
      "     18/49      2.5G   0.03574   0.01767  0.008571        19       640: 100%|███\n",
      "               Class     Images     Labels          P          R     mAP@.5 mAP@\n",
      "                 all         36         39      0.895      0.899      0.946      0.589\n",
      "\n",
      "     Epoch   gpu_mem       box       obj       cls    labels  img_size\n",
      "     19/49      2.5G   0.04332   0.01726  0.008083        13       640: 100%|███\n",
      "               Class     Images     Labels          P          R     mAP@.5 mAP@\n",
      "                 all         36         39      0.881      0.905      0.947      0.597\n",
      "\n",
      "     Epoch   gpu_mem       box       obj       cls    labels  img_size\n",
      "     20/49      2.5G    0.0362   0.01711  0.006401        19       640: 100%|███\n",
      "               Class     Images     Labels          P          R     mAP@.5 mAP@\n",
      "                 all         36         39      0.916      0.829      0.904      0.407\n",
      "\n",
      "     Epoch   gpu_mem       box       obj       cls    labels  img_size\n",
      "     21/49      2.5G   0.03673   0.01628  0.008783        16       640: 100%|███\n",
      "               Class     Images     Labels          P          R     mAP@.5 mAP@\n",
      "                 all         36         39      0.785      0.718      0.838      0.537\n",
      "\n",
      "     Epoch   gpu_mem       box       obj       cls    labels  img_size\n",
      "     22/49      2.5G   0.03805   0.01718   0.01012        14       640: 100%|███\n",
      "               Class     Images     Labels          P          R     mAP@.5 mAP@\n",
      "                 all         36         39      0.915      0.714      0.817      0.529\n",
      "\n",
      "     Epoch   gpu_mem       box       obj       cls    labels  img_size\n",
      "     23/49      2.5G   0.03104    0.0163  0.006885        17       640: 100%|███\n",
      "               Class     Images     Labels          P          R     mAP@.5 mAP@\n",
      "                 all         36         39       0.82      0.911      0.958      0.642\n",
      "\n",
      "     Epoch   gpu_mem       box       obj       cls    labels  img_size\n",
      "     24/49      2.5G    0.0366   0.01706  0.007536        17       640: 100%|███\n",
      "               Class     Images     Labels          P          R     mAP@.5 mAP@\n",
      "                 all         36         39      0.705      0.837      0.916      0.573\n",
      "\n",
      "     Epoch   gpu_mem       box       obj       cls    labels  img_size\n",
      "     25/49      2.5G    0.0325   0.01684  0.007499        17       640: 100%|███\n",
      "               Class     Images     Labels          P          R     mAP@.5 mAP@\n",
      "                 all         36         39      0.694      0.934      0.962      0.526\n",
      "\n",
      "     Epoch   gpu_mem       box       obj       cls    labels  img_size\n",
      "     26/49      2.5G   0.03443   0.01656   0.00573        16       640: 100%|███\n",
      "               Class     Images     Labels          P          R     mAP@.5 mAP@\n",
      "                 all         36         39      0.782      0.764      0.878      0.636\n",
      "\n",
      "     Epoch   gpu_mem       box       obj       cls    labels  img_size\n",
      "     27/49      2.5G    0.0353   0.01564   0.00666        20       640: 100%|███\n",
      "               Class     Images     Labels          P          R     mAP@.5 mAP@\n",
      "                 all         36         39      0.571      0.878      0.833      0.528\n",
      "\n",
      "     Epoch   gpu_mem       box       obj       cls    labels  img_size\n",
      "     28/49      2.5G   0.03585   0.01549  0.007479        18       640: 100%|███\n",
      "               Class     Images     Labels          P          R     mAP@.5 mAP@\n",
      "                 all         36         39      0.851      0.754      0.913      0.541\n",
      "\n",
      "     Epoch   gpu_mem       box       obj       cls    labels  img_size\n",
      "     29/49      2.5G   0.03226   0.01534   0.00507        23       640: 100%|███\n",
      "               Class     Images     Labels          P          R     mAP@.5 mAP@\n",
      "                 all         36         39      0.831      0.837      0.899      0.582\n",
      "\n",
      "     Epoch   gpu_mem       box       obj       cls    labels  img_size\n",
      "     30/49      2.5G   0.02999   0.01664  0.005441        21       640: 100%|███\n",
      "               Class     Images     Labels          P          R     mAP@.5 mAP@\n",
      "                 all         36         39      0.766      0.752      0.847      0.603\n",
      "\n",
      "     Epoch   gpu_mem       box       obj       cls    labels  img_size\n",
      "     31/49      2.5G   0.03628   0.01525  0.006672        18       640: 100%|███\n",
      "               Class     Images     Labels          P          R     mAP@.5 mAP@\n",
      "                 all         36         39      0.872      0.805      0.913       0.62\n"
     ]
    },
    {
     "name": "stdout",
     "output_type": "stream",
     "text": [
      "\n",
      "     Epoch   gpu_mem       box       obj       cls    labels  img_size\n",
      "     32/49      2.5G   0.02903   0.01554  0.005119        13       640: 100%|███\n",
      "               Class     Images     Labels          P          R     mAP@.5 mAP@\n",
      "                 all         36         39      0.864      0.813      0.934      0.706\n",
      "\n",
      "     Epoch   gpu_mem       box       obj       cls    labels  img_size\n",
      "     33/49      2.5G   0.02908   0.01473  0.005469        18       640: 100%|███\n",
      "               Class     Images     Labels          P          R     mAP@.5 mAP@\n",
      "                 all         36         39      0.933      0.819      0.932       0.67\n",
      "\n",
      "     Epoch   gpu_mem       box       obj       cls    labels  img_size\n",
      "     34/49      2.5G   0.03339   0.01593  0.005435        12       640: 100%|███\n",
      "               Class     Images     Labels          P          R     mAP@.5 mAP@\n",
      "                 all         36         39      0.965      0.774      0.834      0.607\n",
      "\n",
      "     Epoch   gpu_mem       box       obj       cls    labels  img_size\n",
      "     35/49      2.5G   0.03139   0.01537   0.00455        25       640: 100%|███\n",
      "               Class     Images     Labels          P          R     mAP@.5 mAP@\n",
      "                 all         36         39      0.985       0.92      0.977      0.719\n",
      "\n",
      "     Epoch   gpu_mem       box       obj       cls    labels  img_size\n",
      "     36/49      2.5G   0.03152   0.01524  0.005099        19       640: 100%|███\n",
      "               Class     Images     Labels          P          R     mAP@.5 mAP@\n",
      "                 all         36         39      0.933      0.965      0.988      0.748\n",
      "\n",
      "     Epoch   gpu_mem       box       obj       cls    labels  img_size\n",
      "     37/49      2.5G   0.03305   0.01424  0.004271        17       640: 100%|███\n",
      "               Class     Images     Labels          P          R     mAP@.5 mAP@\n",
      "                 all         36         39      0.966      0.965      0.987      0.665\n",
      "\n",
      "     Epoch   gpu_mem       box       obj       cls    labels  img_size\n",
      "     38/49      2.5G   0.02992   0.01488  0.004963        15       640: 100%|███\n",
      "               Class     Images     Labels          P          R     mAP@.5 mAP@\n",
      "                 all         36         39      0.982      0.879      0.982      0.688\n",
      "\n",
      "     Epoch   gpu_mem       box       obj       cls    labels  img_size\n",
      "     39/49      2.5G   0.02639   0.01509  0.003746        12       640: 100%|███\n",
      "               Class     Images     Labels          P          R     mAP@.5 mAP@\n",
      "                 all         36         39      0.946      0.808      0.958      0.682\n",
      "\n",
      "     Epoch   gpu_mem       box       obj       cls    labels  img_size\n",
      "     40/49      2.5G   0.02984   0.01476  0.004868        17       640: 100%|███\n",
      "               Class     Images     Labels          P          R     mAP@.5 mAP@\n",
      "                 all         36         39      0.991      0.842      0.964      0.705\n",
      "\n",
      "     Epoch   gpu_mem       box       obj       cls    labels  img_size\n",
      "     41/49      2.5G   0.02442   0.01445   0.00266        15       640: 100%|███\n",
      "               Class     Images     Labels          P          R     mAP@.5 mAP@\n",
      "                 all         36         39      0.873      0.976      0.959      0.695\n",
      "\n",
      "     Epoch   gpu_mem       box       obj       cls    labels  img_size\n",
      "     42/49      2.5G     0.026   0.01475   0.00473        17       640: 100%|███\n",
      "               Class     Images     Labels          P          R     mAP@.5 mAP@\n",
      "                 all         36         39      0.956      0.938      0.983      0.737\n",
      "\n",
      "     Epoch   gpu_mem       box       obj       cls    labels  img_size\n",
      "     43/49      2.5G   0.02835   0.01526  0.004618        19       640: 100%|███\n",
      "               Class     Images     Labels          P          R     mAP@.5 mAP@\n",
      "                 all         36         39      0.973      0.966      0.984      0.748\n",
      "\n",
      "     Epoch   gpu_mem       box       obj       cls    labels  img_size\n",
      "     44/49      2.5G   0.02446   0.01416  0.006437        22       640: 100%|███\n",
      "               Class     Images     Labels          P          R     mAP@.5 mAP@\n",
      "                 all         36         39      0.977      0.967      0.986      0.745\n",
      "\n",
      "     Epoch   gpu_mem       box       obj       cls    labels  img_size\n",
      "     45/49      2.5G   0.02489   0.01346  0.005179        14       640: 100%|███\n",
      "               Class     Images     Labels          P          R     mAP@.5 mAP@\n",
      "                 all         36         39      0.885      0.963      0.977      0.738\n",
      "\n",
      "     Epoch   gpu_mem       box       obj       cls    labels  img_size\n",
      "     46/49      2.5G   0.02481   0.01328  0.004297        12       640: 100%|███\n",
      "               Class     Images     Labels          P          R     mAP@.5 mAP@\n",
      "                 all         36         39      0.983      0.857      0.978      0.747\n",
      "\n",
      "     Epoch   gpu_mem       box       obj       cls    labels  img_size\n",
      "     47/49      2.5G   0.02454   0.01448  0.002841        22       640: 100%|███\n",
      "               Class     Images     Labels          P          R     mAP@.5 mAP@\n",
      "                 all         36         39      0.892      0.904      0.974      0.723\n",
      "\n",
      "     Epoch   gpu_mem       box       obj       cls    labels  img_size\n",
      "     48/49      2.5G   0.02716   0.01494  0.003223        18       640: 100%|███\n",
      "               Class     Images     Labels          P          R     mAP@.5 mAP@\n",
      "                 all         36         39      0.889      0.919      0.976      0.698\n",
      "\n",
      "     Epoch   gpu_mem       box       obj       cls    labels  img_size\n",
      "     49/49      2.5G   0.02429   0.01414  0.003376        15       640: 100%|███\n",
      "               Class     Images     Labels          P          R     mAP@.5 mAP@\n",
      "                 all         36         39      0.954      0.859      0.975      0.713\n",
      "\n",
      "50 epochs completed in 1.383 hours.\n",
      "Optimizer stripped from runs/train/exp16/weights/last.pt, 14.5MB\n",
      "Optimizer stripped from runs/train/exp16/weights/best.pt, 14.5MB\n",
      "\n",
      "Validating runs/train/exp16/weights/best.pt...\n",
      "Fusing layers... \n",
      "Model summary: 213 layers, 7018216 parameters, 0 gradients\n",
      "               Class     Images     Labels          P          R     mAP@.5 mAP@\n",
      "                 all         36         39      0.933      0.965      0.988      0.746\n",
      "Weed_BlackNightshade         36         13      0.926      0.966       0.99      0.884\n",
      "Weed_CommonChickweed         36         14      0.972      0.929      0.986       0.59\n",
      "     Weed_VelvetLeaf         36         12        0.9          1      0.989      0.763\n",
      "Results saved to \u001b[1mruns/train/exp16\u001b[0m\n"
     ]
    }
   ],
   "source": [
    "# Train YOLOv5s on COCO128 for 3 epochs\n",
    "!python3 train.py --img 640 --batch 12 --epochs 50 --data coco128.yaml --weights yolov5s.pt --cache"
   ]
  },
  {
   "cell_type": "markdown",
   "metadata": {
    "id": "15glLzbQx5u0"
   },
   "source": [
    "# 4. Visualize"
   ]
  },
  {
   "cell_type": "markdown",
   "metadata": {
    "id": "DLI1JmHU7B0l"
   },
   "source": [
    "## Weights & Biases Logging 🌟 NEW\n",
    "\n",
    "[Weights & Biases](https://wandb.ai/site?utm_campaign=repo_yolo_notebook) (W&B) is now integrated with YOLOv5 for real-time visualization and cloud logging of training runs. This allows for better run comparison and introspection, as well improved visibility and collaboration for teams. To enable W&B `pip install wandb`, and then train normally (you will be guided through setup on first use). \n",
    "\n",
    "During training you will see live updates at [https://wandb.ai/home](https://wandb.ai/home?utm_campaign=repo_yolo_notebook), and you can create and share detailed [Reports](https://wandb.ai/glenn-jocher/yolov5_tutorial/reports/YOLOv5-COCO128-Tutorial-Results--VmlldzozMDI5OTY) of your results. For more information see the [YOLOv5 Weights & Biases Tutorial](https://github.com/ultralytics/yolov5/issues/1289). \n",
    "\n",
    "<p align=\"left\"><img width=\"900\" alt=\"Weights & Biases dashboard\" src=\"https://user-images.githubusercontent.com/26833433/135390767-c28b050f-8455-4004-adb0-3b730386e2b2.png\"></p>"
   ]
  },
  {
   "cell_type": "markdown",
   "metadata": {
    "id": "-WPvRbS5Swl6"
   },
   "source": [
    "## Local Logging\n",
    "\n",
    "All results are logged by default to `runs/train`, with a new experiment directory created for each new training as `runs/train/exp2`, `runs/train/exp3`, etc. View train and val jpgs to see mosaics, labels, predictions and augmentation effects. Note an Ultralytics **Mosaic Dataloader** is used for training (shown below), which combines 4 images into 1 mosaic during training.\n",
    "\n",
    "> <img src=\"https://user-images.githubusercontent.com/26833433/131255960-b536647f-7c61-4f60-bbc5-cb2544d71b2a.jpg\" width=\"700\">  \n",
    "`train_batch0.jpg` shows train batch 0 mosaics and labels\n",
    "\n",
    "> <img src=\"https://user-images.githubusercontent.com/26833433/131256748-603cafc7-55d1-4e58-ab26-83657761aed9.jpg\" width=\"700\">  \n",
    "`test_batch0_labels.jpg` shows val batch 0 labels\n",
    "\n",
    "> <img src=\"https://user-images.githubusercontent.com/26833433/131256752-3f25d7a5-7b0f-4bb3-ab78-46343c3800fe.jpg\" width=\"700\">  \n",
    "`test_batch0_pred.jpg` shows val batch 0 _predictions_\n",
    "\n",
    "Training results are automatically logged to [Tensorboard](https://www.tensorflow.org/tensorboard) and [CSV](https://github.com/ultralytics/yolov5/pull/4148) as `results.csv`, which is plotted as `results.png` (below) after training completes. You can also plot any `results.csv` file manually:\n",
    "\n",
    "```python\n",
    "from utils.plots import plot_results \n",
    "plot_results('path/to/results.csv')  # plot 'results.csv' as 'results.png'\n",
    "```\n",
    "\n",
    "<img align=\"left\" width=\"800\" alt=\"COCO128 Training Results\" src=\"https://user-images.githubusercontent.com/26833433/126906780-8c5e2990-6116-4de6-b78a-367244a33ccf.png\">"
   ]
  },
  {
   "cell_type": "markdown",
   "metadata": {
    "id": "Zelyeqbyt3GD"
   },
   "source": [
    "# Environments\n",
    "\n",
    "YOLOv5 may be run in any of the following up-to-date verified environments (with all dependencies including [CUDA](https://developer.nvidia.com/cuda)/[CUDNN](https://developer.nvidia.com/cudnn), [Python](https://www.python.org/) and [PyTorch](https://pytorch.org/) preinstalled):\n",
    "\n",
    "- **Google Colab and Kaggle** notebooks with free GPU: <a href=\"https://colab.research.google.com/github/ultralytics/yolov5/blob/master/tutorial.ipynb\"><img src=\"https://colab.research.google.com/assets/colab-badge.svg\" alt=\"Open In Colab\"></a> <a href=\"https://www.kaggle.com/ultralytics/yolov5\"><img src=\"https://kaggle.com/static/images/open-in-kaggle.svg\" alt=\"Open In Kaggle\"></a>\n",
    "- **Google Cloud** Deep Learning VM. See [GCP Quickstart Guide](https://github.com/ultralytics/yolov5/wiki/GCP-Quickstart)\n",
    "- **Amazon** Deep Learning AMI. See [AWS Quickstart Guide](https://github.com/ultralytics/yolov5/wiki/AWS-Quickstart)\n",
    "- **Docker Image**. See [Docker Quickstart Guide](https://github.com/ultralytics/yolov5/wiki/Docker-Quickstart) <a href=\"https://hub.docker.com/r/ultralytics/yolov5\"><img src=\"https://img.shields.io/docker/pulls/ultralytics/yolov5?logo=docker\" alt=\"Docker Pulls\"></a>\n"
   ]
  },
  {
   "cell_type": "markdown",
   "metadata": {
    "id": "6Qu7Iesl0p54"
   },
   "source": [
    "# Status\n",
    "\n",
    "![CI CPU testing](https://github.com/ultralytics/yolov5/workflows/CI%20CPU%20testing/badge.svg)\n",
    "\n",
    "If this badge is green, all [YOLOv5 GitHub Actions](https://github.com/ultralytics/yolov5/actions) Continuous Integration (CI) tests are currently passing. CI tests verify correct operation of YOLOv5 training ([train.py](https://github.com/ultralytics/yolov5/blob/master/train.py)), testing ([val.py](https://github.com/ultralytics/yolov5/blob/master/val.py)), inference ([detect.py](https://github.com/ultralytics/yolov5/blob/master/detect.py)) and export ([export.py](https://github.com/ultralytics/yolov5/blob/master/export.py)) on macOS, Windows, and Ubuntu every 24 hours and on every commit.\n"
   ]
  },
  {
   "cell_type": "markdown",
   "metadata": {
    "id": "IEijrePND_2I"
   },
   "source": [
    "# Appendix\n",
    "\n",
    "Optional extras below. Unit tests validate repo functionality and should be run on any PRs submitted.\n"
   ]
  },
  {
   "cell_type": "code",
   "execution_count": null,
   "metadata": {
    "id": "mcKoSIK2WSzj"
   },
   "outputs": [],
   "source": [
    "# Reproduce\n",
    "for x in 'yolov5n', 'yolov5s', 'yolov5m', 'yolov5l', 'yolov5x':\n",
    "  !python val.py --weights {x}.pt --data coco.yaml --img 640 --task speed  # speed\n",
    "  !python val.py --weights {x}.pt --data coco.yaml --img 640 --conf 0.001 --iou 0.65  # mAP"
   ]
  },
  {
   "cell_type": "code",
   "execution_count": null,
   "metadata": {
    "id": "GMusP4OAxFu6"
   },
   "outputs": [],
   "source": [
    "# PyTorch Hub\n",
    "import torch\n",
    "\n",
    "# Model\n",
    "model = torch.hub.load('ultralytics/yolov5', 'yolov5s')\n",
    "\n",
    "# Images\n",
    "dir = 'https://ultralytics.com/images/'\n",
    "imgs = [dir + f for f in ('zidane.jpg', 'bus.jpg')]  # batch of images\n",
    "\n",
    "# Inference\n",
    "results = model(imgs)\n",
    "results.print()  # or .show(), .save()"
   ]
  },
  {
   "cell_type": "code",
   "execution_count": null,
   "metadata": {
    "id": "FGH0ZjkGjejy"
   },
   "outputs": [],
   "source": [
    "# CI Checks\n",
    "%%shell\n",
    "export PYTHONPATH=\"$PWD\"  # to run *.py. files in subdirectories\n",
    "rm -rf runs  # remove runs/\n",
    "for m in yolov5n; do  # models\n",
    "  python train.py --img 64 --batch 32 --weights $m.pt --epochs 1 --device 0  # train pretrained\n",
    "  python train.py --img 64 --batch 32 --weights '' --cfg $m.yaml --epochs 1 --device 0  # train scratch\n",
    "  for d in 0 cpu; do  # devices\n",
    "    python val.py --weights $m.pt --device $d # val official\n",
    "    python val.py --weights runs/train/exp/weights/best.pt --device $d # val custom\n",
    "    python detect.py --weights $m.pt --device $d  # detect official\n",
    "    python detect.py --weights runs/train/exp/weights/best.pt --device $d  # detect custom\n",
    "  done\n",
    "  python hubconf.py  # hub\n",
    "  python models/yolo.py --cfg $m.yaml  # build PyTorch model\n",
    "  python models/tf.py --weights $m.pt  # build TensorFlow model\n",
    "  python export.py --img 64 --batch 1 --weights $m.pt --include torchscript onnx  # export\n",
    "done"
   ]
  },
  {
   "cell_type": "code",
   "execution_count": null,
   "metadata": {
    "id": "gogI-kwi3Tye"
   },
   "outputs": [],
   "source": [
    "# Profile\n",
    "from utils.torch_utils import profile\n",
    "\n",
    "m1 = lambda x: x * torch.sigmoid(x)\n",
    "m2 = torch.nn.SiLU()\n",
    "results = profile(input=torch.randn(16, 3, 640, 640), ops=[m1, m2], n=100)"
   ]
  },
  {
   "cell_type": "code",
   "execution_count": null,
   "metadata": {
    "id": "RVRSOhEvUdb5"
   },
   "outputs": [],
   "source": [
    "# Evolve\n",
    "!python train.py --img 640 --batch 64 --epochs 100 --data coco128.yaml --weights yolov5s.pt --cache --noautoanchor --evolve\n",
    "!d=runs/train/evolve && cp evolve.* $d && zip -r evolve.zip $d && gsutil mv evolve.zip gs://bucket  # upload results (optional)"
   ]
  },
  {
   "cell_type": "code",
   "execution_count": null,
   "metadata": {
    "id": "BSgFCAcMbk1R"
   },
   "outputs": [],
   "source": [
    "# VOC\n",
    "for b, m in zip([64, 64, 64, 32, 16], ['yolov5n', 'yolov5s', 'yolov5m', 'yolov5l', 'yolov5x']):  # batch, model\n",
    "  !python train.py --batch {b} --weights {m}.pt --data VOC.yaml --epochs 50 --img 512 --hyp hyp.VOC.yaml --project VOC --name {m} --cache"
   ]
  },
  {
   "cell_type": "code",
   "execution_count": null,
   "metadata": {
    "id": "VTRwsvA9u7ln"
   },
   "outputs": [],
   "source": [
    "# TensorRT \n",
    "# https://docs.nvidia.com/deeplearning/tensorrt/install-guide/index.html#installing-pip\n",
    "!pip install -U nvidia-tensorrt --index-url https://pypi.ngc.nvidia.com  # install\n",
    "!python export.py --weights yolov5s.pt --include engine --imgsz 640 640 --device 0  # export\n",
    "!python detect.py --weights yolov5s.engine --imgsz 640 640 --device 0  # inference"
   ]
  }
 ],
 "metadata": {
  "accelerator": "GPU",
  "colab": {
   "collapsed_sections": [],
   "machine_shape": "hm",
   "name": "YOLOv5 Tutorial",
   "provenance": []
  },
  "kernelspec": {
   "display_name": "Python 3 (ipykernel)",
   "language": "python",
   "name": "python3"
  },
  "language_info": {
   "codemirror_mode": {
    "name": "ipython",
    "version": 3
   },
   "file_extension": ".py",
   "mimetype": "text/x-python",
   "name": "python",
   "nbconvert_exporter": "python",
   "pygments_lexer": "ipython3",
   "version": "3.8.10"
  },
  "widgets": {
   "application/vnd.jupyter.widget-state+json": {
    "20c89dc0d82a4bdf8756bf5e34152292": {
     "model_module": "@jupyter-widgets/controls",
     "model_module_version": "1.5.0",
     "model_name": "HTMLModel",
     "state": {
      "_dom_classes": [],
      "_model_module": "@jupyter-widgets/controls",
      "_model_module_version": "1.5.0",
      "_model_name": "HTMLModel",
      "_view_count": null,
      "_view_module": "@jupyter-widgets/controls",
      "_view_module_version": "1.5.0",
      "_view_name": "HTMLView",
      "description": "",
      "description_tooltip": null,
      "layout": "IPY_MODEL_801e720897804703b4d32f99f84cc3b8",
      "placeholder": "​",
      "style": "IPY_MODEL_c9fb2e268cc94d508d909b3b72ac9df3",
      "value": "100%"
     }
    },
    "572de771c7b34c1481def33bd5ed690d": {
     "model_module": "@jupyter-widgets/controls",
     "model_module_version": "1.5.0",
     "model_name": "HBoxModel",
     "state": {
      "_dom_classes": [],
      "_model_module": "@jupyter-widgets/controls",
      "_model_module_version": "1.5.0",
      "_model_name": "HBoxModel",
      "_view_count": null,
      "_view_module": "@jupyter-widgets/controls",
      "_view_module_version": "1.5.0",
      "_view_name": "HBoxView",
      "box_style": "",
      "children": [
       "IPY_MODEL_20c89dc0d82a4bdf8756bf5e34152292",
       "IPY_MODEL_61026f684725441db2a640e531807675",
       "IPY_MODEL_8d2e16d90e13449598d7b3fac75f78a3"
      ],
      "layout": "IPY_MODEL_a09d90f1bd374ece9a29bc6cfe07c072"
     }
    },
    "61026f684725441db2a640e531807675": {
     "model_module": "@jupyter-widgets/controls",
     "model_module_version": "1.5.0",
     "model_name": "FloatProgressModel",
     "state": {
      "_dom_classes": [],
      "_model_module": "@jupyter-widgets/controls",
      "_model_module_version": "1.5.0",
      "_model_name": "FloatProgressModel",
      "_view_count": null,
      "_view_module": "@jupyter-widgets/controls",
      "_view_module_version": "1.5.0",
      "_view_name": "ProgressView",
      "bar_style": "success",
      "description": "",
      "description_tooltip": null,
      "layout": "IPY_MODEL_bfbc16e88df24fae93e8c80538e78273",
      "max": 818322941,
      "min": 0,
      "orientation": "horizontal",
      "style": "IPY_MODEL_d9ffa50bddb7455ca4d67ec220c4a10c",
      "value": 818322941
     }
    },
    "78e5b8dba72942bfacfee54ceec53784": {
     "model_module": "@jupyter-widgets/controls",
     "model_module_version": "1.5.0",
     "model_name": "DescriptionStyleModel",
     "state": {
      "_model_module": "@jupyter-widgets/controls",
      "_model_module_version": "1.5.0",
      "_model_name": "DescriptionStyleModel",
      "_view_count": null,
      "_view_module": "@jupyter-widgets/base",
      "_view_module_version": "1.2.0",
      "_view_name": "StyleView",
      "description_width": ""
     }
    },
    "801e720897804703b4d32f99f84cc3b8": {
     "model_module": "@jupyter-widgets/base",
     "model_module_version": "1.2.0",
     "model_name": "LayoutModel",
     "state": {
      "_model_module": "@jupyter-widgets/base",
      "_model_module_version": "1.2.0",
      "_model_name": "LayoutModel",
      "_view_count": null,
      "_view_module": "@jupyter-widgets/base",
      "_view_module_version": "1.2.0",
      "_view_name": "LayoutView",
      "align_content": null,
      "align_items": null,
      "align_self": null,
      "border": null,
      "bottom": null,
      "display": null,
      "flex": null,
      "flex_flow": null,
      "grid_area": null,
      "grid_auto_columns": null,
      "grid_auto_flow": null,
      "grid_auto_rows": null,
      "grid_column": null,
      "grid_gap": null,
      "grid_row": null,
      "grid_template_areas": null,
      "grid_template_columns": null,
      "grid_template_rows": null,
      "height": null,
      "justify_content": null,
      "justify_items": null,
      "left": null,
      "margin": null,
      "max_height": null,
      "max_width": null,
      "min_height": null,
      "min_width": null,
      "object_fit": null,
      "object_position": null,
      "order": null,
      "overflow": null,
      "overflow_x": null,
      "overflow_y": null,
      "padding": null,
      "right": null,
      "top": null,
      "visibility": null,
      "width": null
     }
    },
    "8be83ee30f804775aa55aeb021bf515b": {
     "model_module": "@jupyter-widgets/base",
     "model_module_version": "1.2.0",
     "model_name": "LayoutModel",
     "state": {
      "_model_module": "@jupyter-widgets/base",
      "_model_module_version": "1.2.0",
      "_model_name": "LayoutModel",
      "_view_count": null,
      "_view_module": "@jupyter-widgets/base",
      "_view_module_version": "1.2.0",
      "_view_name": "LayoutView",
      "align_content": null,
      "align_items": null,
      "align_self": null,
      "border": null,
      "bottom": null,
      "display": null,
      "flex": null,
      "flex_flow": null,
      "grid_area": null,
      "grid_auto_columns": null,
      "grid_auto_flow": null,
      "grid_auto_rows": null,
      "grid_column": null,
      "grid_gap": null,
      "grid_row": null,
      "grid_template_areas": null,
      "grid_template_columns": null,
      "grid_template_rows": null,
      "height": null,
      "justify_content": null,
      "justify_items": null,
      "left": null,
      "margin": null,
      "max_height": null,
      "max_width": null,
      "min_height": null,
      "min_width": null,
      "object_fit": null,
      "object_position": null,
      "order": null,
      "overflow": null,
      "overflow_x": null,
      "overflow_y": null,
      "padding": null,
      "right": null,
      "top": null,
      "visibility": null,
      "width": null
     }
    },
    "8d2e16d90e13449598d7b3fac75f78a3": {
     "model_module": "@jupyter-widgets/controls",
     "model_module_version": "1.5.0",
     "model_name": "HTMLModel",
     "state": {
      "_dom_classes": [],
      "_model_module": "@jupyter-widgets/controls",
      "_model_module_version": "1.5.0",
      "_model_name": "HTMLModel",
      "_view_count": null,
      "_view_module": "@jupyter-widgets/controls",
      "_view_module_version": "1.5.0",
      "_view_name": "HTMLView",
      "description": "",
      "description_tooltip": null,
      "layout": "IPY_MODEL_8be83ee30f804775aa55aeb021bf515b",
      "placeholder": "​",
      "style": "IPY_MODEL_78e5b8dba72942bfacfee54ceec53784",
      "value": " 780M/780M [01:28&lt;00:00, 9.08MB/s]"
     }
    },
    "a09d90f1bd374ece9a29bc6cfe07c072": {
     "model_module": "@jupyter-widgets/base",
     "model_module_version": "1.2.0",
     "model_name": "LayoutModel",
     "state": {
      "_model_module": "@jupyter-widgets/base",
      "_model_module_version": "1.2.0",
      "_model_name": "LayoutModel",
      "_view_count": null,
      "_view_module": "@jupyter-widgets/base",
      "_view_module_version": "1.2.0",
      "_view_name": "LayoutView",
      "align_content": null,
      "align_items": null,
      "align_self": null,
      "border": null,
      "bottom": null,
      "display": null,
      "flex": null,
      "flex_flow": null,
      "grid_area": null,
      "grid_auto_columns": null,
      "grid_auto_flow": null,
      "grid_auto_rows": null,
      "grid_column": null,
      "grid_gap": null,
      "grid_row": null,
      "grid_template_areas": null,
      "grid_template_columns": null,
      "grid_template_rows": null,
      "height": null,
      "justify_content": null,
      "justify_items": null,
      "left": null,
      "margin": null,
      "max_height": null,
      "max_width": null,
      "min_height": null,
      "min_width": null,
      "object_fit": null,
      "object_position": null,
      "order": null,
      "overflow": null,
      "overflow_x": null,
      "overflow_y": null,
      "padding": null,
      "right": null,
      "top": null,
      "visibility": null,
      "width": null
     }
    },
    "bfbc16e88df24fae93e8c80538e78273": {
     "model_module": "@jupyter-widgets/base",
     "model_module_version": "1.2.0",
     "model_name": "LayoutModel",
     "state": {
      "_model_module": "@jupyter-widgets/base",
      "_model_module_version": "1.2.0",
      "_model_name": "LayoutModel",
      "_view_count": null,
      "_view_module": "@jupyter-widgets/base",
      "_view_module_version": "1.2.0",
      "_view_name": "LayoutView",
      "align_content": null,
      "align_items": null,
      "align_self": null,
      "border": null,
      "bottom": null,
      "display": null,
      "flex": null,
      "flex_flow": null,
      "grid_area": null,
      "grid_auto_columns": null,
      "grid_auto_flow": null,
      "grid_auto_rows": null,
      "grid_column": null,
      "grid_gap": null,
      "grid_row": null,
      "grid_template_areas": null,
      "grid_template_columns": null,
      "grid_template_rows": null,
      "height": null,
      "justify_content": null,
      "justify_items": null,
      "left": null,
      "margin": null,
      "max_height": null,
      "max_width": null,
      "min_height": null,
      "min_width": null,
      "object_fit": null,
      "object_position": null,
      "order": null,
      "overflow": null,
      "overflow_x": null,
      "overflow_y": null,
      "padding": null,
      "right": null,
      "top": null,
      "visibility": null,
      "width": null
     }
    },
    "c9fb2e268cc94d508d909b3b72ac9df3": {
     "model_module": "@jupyter-widgets/controls",
     "model_module_version": "1.5.0",
     "model_name": "DescriptionStyleModel",
     "state": {
      "_model_module": "@jupyter-widgets/controls",
      "_model_module_version": "1.5.0",
      "_model_name": "DescriptionStyleModel",
      "_view_count": null,
      "_view_module": "@jupyter-widgets/base",
      "_view_module_version": "1.2.0",
      "_view_name": "StyleView",
      "description_width": ""
     }
    },
    "d9ffa50bddb7455ca4d67ec220c4a10c": {
     "model_module": "@jupyter-widgets/controls",
     "model_module_version": "1.5.0",
     "model_name": "ProgressStyleModel",
     "state": {
      "_model_module": "@jupyter-widgets/controls",
      "_model_module_version": "1.5.0",
      "_model_name": "ProgressStyleModel",
      "_view_count": null,
      "_view_module": "@jupyter-widgets/base",
      "_view_module_version": "1.2.0",
      "_view_name": "StyleView",
      "bar_color": null,
      "description_width": ""
     }
    }
   }
  }
 },
 "nbformat": 4,
 "nbformat_minor": 1
}
